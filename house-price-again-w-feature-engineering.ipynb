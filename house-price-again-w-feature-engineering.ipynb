{
 "cells": [
  {
   "cell_type": "code",
   "execution_count": 1,
   "id": "3b52fcf4",
   "metadata": {
    "_cell_guid": "b1076dfc-b9ad-4769-8c92-a6c4dae69d19",
    "_uuid": "8f2839f25d086af736a60e9eeb907d3b93b6e0e5",
    "execution": {
     "iopub.execute_input": "2023-01-07T01:06:45.176174Z",
     "iopub.status.busy": "2023-01-07T01:06:45.175667Z",
     "iopub.status.idle": "2023-01-07T01:06:45.189452Z",
     "shell.execute_reply": "2023-01-07T01:06:45.188519Z"
    },
    "papermill": {
     "duration": 0.026782,
     "end_time": "2023-01-07T01:06:45.192223",
     "exception": false,
     "start_time": "2023-01-07T01:06:45.165441",
     "status": "completed"
    },
    "tags": []
   },
   "outputs": [
    {
     "name": "stdout",
     "output_type": "stream",
     "text": [
      "/kaggle/input/house-prices-advanced-regression-techniques/sample_submission.csv\n",
      "/kaggle/input/house-prices-advanced-regression-techniques/data_description.txt\n",
      "/kaggle/input/house-prices-advanced-regression-techniques/train.csv\n",
      "/kaggle/input/house-prices-advanced-regression-techniques/test.csv\n"
     ]
    }
   ],
   "source": [
    "# This Python 3 environment comes with many helpful analytics libraries installed\n",
    "# It is defined by the kaggle/python Docker image: https://github.com/kaggle/docker-python\n",
    "# For example, here's several helpful packages to load\n",
    "\n",
    "import numpy as np # linear algebra\n",
    "import pandas as pd # data processing, CSV file I/O (e.g. pd.read_csv)\n",
    "\n",
    "# Input data files are available in the read-only \"../input/\" directory\n",
    "# For example, running this (by clicking run or pressing Shift+Enter) will list all files under the input directory\n",
    "\n",
    "import os\n",
    "for dirname, _, filenames in os.walk('/kaggle/input'):\n",
    "    for filename in filenames:\n",
    "        print(os.path.join(dirname, filename))\n",
    "\n",
    "# You can write up to 20GB to the current directory (/kaggle/working/) that gets preserved as output when you create a version using \"Save & Run All\" \n",
    "# You can also write temporary files to /kaggle/temp/, but they won't be saved outside of the current session"
   ]
  },
  {
   "cell_type": "code",
   "execution_count": 2,
   "id": "46e0b5d9",
   "metadata": {
    "execution": {
     "iopub.execute_input": "2023-01-07T01:06:45.208494Z",
     "iopub.status.busy": "2023-01-07T01:06:45.208029Z",
     "iopub.status.idle": "2023-01-07T01:06:46.951961Z",
     "shell.execute_reply": "2023-01-07T01:06:46.950605Z"
    },
    "papermill": {
     "duration": 1.7552,
     "end_time": "2023-01-07T01:06:46.954772",
     "exception": false,
     "start_time": "2023-01-07T01:06:45.199572",
     "status": "completed"
    },
    "tags": []
   },
   "outputs": [],
   "source": [
    "import matplotlib.pyplot as plt\n",
    "import seaborn as sns\n",
    "from scipy import stats\n",
    "from pandas.api.types import CategoricalDtype\n",
    "from sklearn.model_selection import KFold,cross_val_score\n",
    "from xgboost import XGBRegressor\n",
    "from sklearn.feature_selection import mutual_info_regression\n",
    "from sklearn.decomposition import PCA\n",
    "from sklearn.cluster import KMeans\n",
    "from category_encoders import MEstimateEncoder"
   ]
  },
  {
   "cell_type": "code",
   "execution_count": 3,
   "id": "69ddb8bf",
   "metadata": {
    "execution": {
     "iopub.execute_input": "2023-01-07T01:06:46.971491Z",
     "iopub.status.busy": "2023-01-07T01:06:46.970771Z",
     "iopub.status.idle": "2023-01-07T01:06:46.978328Z",
     "shell.execute_reply": "2023-01-07T01:06:46.977273Z"
    },
    "papermill": {
     "duration": 0.019301,
     "end_time": "2023-01-07T01:06:46.981351",
     "exception": false,
     "start_time": "2023-01-07T01:06:46.962050",
     "status": "completed"
    },
    "tags": []
   },
   "outputs": [],
   "source": [
    "def load_data():\n",
    "    df_train = pd.read_csv(\"/kaggle/input/house-prices-advanced-regression-techniques/train.csv\", index_col=\"Id\")\n",
    "    df_test = pd.read_csv(\"/kaggle/input/house-prices-advanced-regression-techniques/test.csv\", index_col=\"Id\")\n",
    "    \n",
    "    # Merge to process together\n",
    "    df = pd.concat([df_train, df_test])\n",
    "    \n",
    "    # Preprocessing\n",
    "    df = clean(df)\n",
    "    df = encode(df)\n",
    "    df = impute(df)\n",
    "    \n",
    "    # Reform splits\n",
    "    df_train = df.loc[df_train.index, :]\n",
    "    df_test = df.loc[df_test.index, :]\n",
    "    return df_train, df_test"
   ]
  },
  {
   "cell_type": "code",
   "execution_count": 4,
   "id": "7bfc30ab",
   "metadata": {
    "execution": {
     "iopub.execute_input": "2023-01-07T01:06:46.998313Z",
     "iopub.status.busy": "2023-01-07T01:06:46.997636Z",
     "iopub.status.idle": "2023-01-07T01:06:47.003819Z",
     "shell.execute_reply": "2023-01-07T01:06:47.002860Z"
    },
    "papermill": {
     "duration": 0.017335,
     "end_time": "2023-01-07T01:06:47.006217",
     "exception": false,
     "start_time": "2023-01-07T01:06:46.988882",
     "status": "completed"
    },
    "tags": []
   },
   "outputs": [],
   "source": [
    "def clean(df):\n",
    "    df[\"Exterior2nd\"] = df[\"Exterior2nd\"].replace({\"Brk Cmn\": \"BrkComm\"}) # to deal with a typo in comparison with the data_description.txt\n",
    "    \n",
    "    # Most of the missing garage year built data was likely built at the same time as the house.\n",
    "    df[\"GarageYrBlt\"] = df[\"GarageYrBlt\"].where(df.GarageYrBlt <= 2010, df.YearBuilt)\n",
    "    \n",
    "    # For easier handling\n",
    "    df.rename(columns={\n",
    "        \"1stFlrSF\": \"FirstFlrSF\",\n",
    "        \"2ndFlrSF\": \"SecondFlrSF\",\n",
    "        \"3SsnPorch\": \"Threeseasonporch\",\n",
    "    }, inplace=True,\n",
    "    )\n",
    "    return df"
   ]
  },
  {
   "cell_type": "code",
   "execution_count": 5,
   "id": "4e45a222",
   "metadata": {
    "execution": {
     "iopub.execute_input": "2023-01-07T01:06:47.022481Z",
     "iopub.status.busy": "2023-01-07T01:06:47.022012Z",
     "iopub.status.idle": "2023-01-07T01:06:47.035894Z",
     "shell.execute_reply": "2023-01-07T01:06:47.034828Z"
    },
    "papermill": {
     "duration": 0.025034,
     "end_time": "2023-01-07T01:06:47.038316",
     "exception": false,
     "start_time": "2023-01-07T01:06:47.013282",
     "status": "completed"
    },
    "tags": []
   },
   "outputs": [],
   "source": [
    "# Nominal features\n",
    "features_nom = [\"MSSubClass\", \"MSZoning\", \"Street\", \"Alley\", \"LandContour\", \"LotConfig\", \"Neighborhood\", \"Condition1\", \"Condition2\", \"BldgType\", \"HouseStyle\", \"RoofStyle\", \"RoofMatl\", \"Exterior1st\", \"Exterior2nd\", \"MasVnrType\", \"Foundation\", \"Heating\", \"CentralAir\", \"GarageType\", \"MiscFeature\", \"SaleType\", \"SaleCondition\"]\n",
    "# Important to remember - the `MSSubClass` feature is  read as an `int` type, but is actually a nominative categorical.\n",
    "\n",
    "# Ordinal features \n",
    "five_levels = [\"Po\", \"Fa\", \"TA\", \"Gd\", \"Ex\"]\n",
    "ten_levels = list(range(10))\n",
    "\n",
    "ordered_levels = {\n",
    "    \"OverallQual\": ten_levels,\n",
    "    \"OverallCond\": ten_levels,\n",
    "    \"ExterQual\": five_levels,\n",
    "    \"ExterCond\": five_levels,\n",
    "    \"BsmtQual\": five_levels,\n",
    "    \"BsmtCond\": five_levels,\n",
    "    \"HeatingQC\": five_levels,\n",
    "    \"KitchenQual\": five_levels,\n",
    "    \"FireplaceQu\": five_levels,\n",
    "    \"GarageQual\": five_levels,\n",
    "    \"GarageCond\": five_levels,\n",
    "    \"PoolQC\": five_levels,\n",
    "    \"LotShape\": [\"Reg\", \"IR1\", \"IR2\", \"IR3\"],\n",
    "    \"LandSlope\": [\"Sev\", \"Mod\", \"Gtl\"],\n",
    "    \"BsmtExposure\": [\"No\", \"Mn\", \"Av\", \"Gd\"],\n",
    "    \"BsmtFinType1\": [\"Unf\", \"LwQ\", \"Rec\", \"BLQ\", \"ALQ\", \"GLQ\"],\n",
    "    \"BsmtFinType2\": [\"Unf\", \"LwQ\", \"Rec\", \"BLQ\", \"ALQ\", \"GLQ\"],\n",
    "    \"Functional\": [\"Sal\", \"Sev\", \"Maj1\", \"Maj2\", \"Mod\", \"Min2\", \"Min1\", \"Typ\"],\n",
    "    \"GarageFinish\": [\"Unf\", \"RFn\", \"Fin\"],\n",
    "    \"PavedDrive\": [\"N\", \"P\", \"Y\"],\n",
    "    \"Utilities\": [\"NoSeWa\", \"NoSewr\", \"AllPub\"],\n",
    "    \"CentralAir\": [\"N\", \"Y\"],\n",
    "    \"Electrical\": [\"Mix\", \"FuseP\", \"FuseF\", \"FuseA\", \"SBrkr\"],\n",
    "    \"Fence\": [\"MnWw\", \"GdWo\", \"MnPrv\", \"GdPrv\"],\n",
    "}\n",
    "\n",
    "# Add a None level for missing values\n",
    "ordered_levels = {key: [\"None\"] + value for key, value in\n",
    "                  ordered_levels.items()}\n",
    "\n",
    "def encode(df):\n",
    "    # Nominal categories\n",
    "    for name in features_nom:\n",
    "        df[name] = df[name].astype(\"category\")\n",
    "        # Add a None category for missing values\n",
    "        if \"None\" not in df[name].cat.categories:\n",
    "            df[name].cat.add_categories(\"None\", inplace=True)\n",
    "    # Ordinal categories\n",
    "    for name, levels in ordered_levels.items():\n",
    "        df[name] = df[name].astype(CategoricalDtype(levels,\n",
    "                                                    ordered=True))\n",
    "    return df"
   ]
  },
  {
   "cell_type": "code",
   "execution_count": 6,
   "id": "ded2f9e7",
   "metadata": {
    "execution": {
     "iopub.execute_input": "2023-01-07T01:06:47.055182Z",
     "iopub.status.busy": "2023-01-07T01:06:47.054009Z",
     "iopub.status.idle": "2023-01-07T01:06:47.060097Z",
     "shell.execute_reply": "2023-01-07T01:06:47.059195Z"
    },
    "papermill": {
     "duration": 0.017015,
     "end_time": "2023-01-07T01:06:47.062560",
     "exception": false,
     "start_time": "2023-01-07T01:06:47.045545",
     "status": "completed"
    },
    "tags": []
   },
   "outputs": [],
   "source": [
    "def impute(df):\n",
    "    for name in df.select_dtypes(\"number\"):\n",
    "        df[name] = df[name].fillna(0)\n",
    "    for name in df.select_dtypes(\"category\"):\n",
    "        df[name] = df[name].fillna(\"None\")\n",
    "    return df"
   ]
  },
  {
   "cell_type": "code",
   "execution_count": 7,
   "id": "e0232dce",
   "metadata": {
    "execution": {
     "iopub.execute_input": "2023-01-07T01:06:47.078671Z",
     "iopub.status.busy": "2023-01-07T01:06:47.078236Z",
     "iopub.status.idle": "2023-01-07T01:06:47.293003Z",
     "shell.execute_reply": "2023-01-07T01:06:47.291629Z"
    },
    "papermill": {
     "duration": 0.226298,
     "end_time": "2023-01-07T01:06:47.295752",
     "exception": false,
     "start_time": "2023-01-07T01:06:47.069454",
     "status": "completed"
    },
    "tags": []
   },
   "outputs": [
    {
     "name": "stderr",
     "output_type": "stream",
     "text": [
      "/opt/conda/lib/python3.7/site-packages/pandas/core/arrays/categorical.py:2631: FutureWarning: The `inplace` parameter in pandas.Categorical.add_categories is deprecated and will be removed in a future version. Removing unused categories will always return a new Categorical object.\n",
      "  res = method(*args, **kwargs)\n"
     ]
    }
   ],
   "source": [
    "df_train, df_test = load_data()"
   ]
  },
  {
   "cell_type": "code",
   "execution_count": 8,
   "id": "ac3129fe",
   "metadata": {
    "execution": {
     "iopub.execute_input": "2023-01-07T01:06:47.313292Z",
     "iopub.status.busy": "2023-01-07T01:06:47.312879Z",
     "iopub.status.idle": "2023-01-07T01:06:47.319614Z",
     "shell.execute_reply": "2023-01-07T01:06:47.318639Z"
    },
    "papermill": {
     "duration": 0.01898,
     "end_time": "2023-01-07T01:06:47.321793",
     "exception": false,
     "start_time": "2023-01-07T01:06:47.302813",
     "status": "completed"
    },
    "tags": []
   },
   "outputs": [],
   "source": [
    "def score_dataset(X, y, model=XGBRegressor()):\n",
    "    # cat.codes attribute holds the category levels\n",
    "    for colname in X.select_dtypes([\"category\"]):\n",
    "        X[colname] = X[colname].cat.codes\n",
    "    # log transformed target\n",
    "    log_y = np.log(y)\n",
    "    score = cross_val_score(\n",
    "        model, X, log_y, cv=5, scoring=\"neg_mean_squared_error\",\n",
    "    )\n",
    "    score = -1 * score.mean()\n",
    "    score = np.sqrt(score)\n",
    "    return score"
   ]
  },
  {
   "cell_type": "code",
   "execution_count": 9,
   "id": "4fa2fde5",
   "metadata": {
    "execution": {
     "iopub.execute_input": "2023-01-07T01:06:47.337788Z",
     "iopub.status.busy": "2023-01-07T01:06:47.337130Z",
     "iopub.status.idle": "2023-01-07T01:06:50.388870Z",
     "shell.execute_reply": "2023-01-07T01:06:50.387774Z"
    },
    "papermill": {
     "duration": 3.062565,
     "end_time": "2023-01-07T01:06:50.391238",
     "exception": false,
     "start_time": "2023-01-07T01:06:47.328673",
     "status": "completed"
    },
    "tags": []
   },
   "outputs": [
    {
     "name": "stdout",
     "output_type": "stream",
     "text": [
      "Baseline score: 0.14351 RMSLE\n"
     ]
    }
   ],
   "source": [
    "X = df_train.copy()\n",
    "y = X.pop(\"SalePrice\")\n",
    "\n",
    "baseline_score = score_dataset(X, y)\n",
    "print(f\"Baseline score: {baseline_score:.5f} RMSLE\")"
   ]
  },
  {
   "cell_type": "code",
   "execution_count": 10,
   "id": "2729a7c3",
   "metadata": {
    "execution": {
     "iopub.execute_input": "2023-01-07T01:06:50.410328Z",
     "iopub.status.busy": "2023-01-07T01:06:50.409861Z",
     "iopub.status.idle": "2023-01-07T01:06:50.419039Z",
     "shell.execute_reply": "2023-01-07T01:06:50.418217Z"
    },
    "papermill": {
     "duration": 0.020762,
     "end_time": "2023-01-07T01:06:50.421224",
     "exception": false,
     "start_time": "2023-01-07T01:06:50.400462",
     "status": "completed"
    },
    "tags": []
   },
   "outputs": [],
   "source": [
    "def make_mi_scores(X, y):\n",
    "    X = X.copy()\n",
    "    for colname in X.select_dtypes([\"object\", \"category\"]):\n",
    "        X[colname], _ = X[colname].factorize()\n",
    "    # All the discrete features now have integer dtypes\n",
    "    discrete_features = [pd.api.types.is_integer_dtype(t) for t in X.dtypes]\n",
    "    mi_scores = mutual_info_regression(X, y, discrete_features=discrete_features, random_state=1)\n",
    "    mi_scores = pd.Series(mi_scores, name=\"MI Scores\", index=X.columns)\n",
    "    mi_scores = mi_scores.sort_values(ascending=False)\n",
    "    return mi_scores\n",
    "\n",
    "\n",
    "def plot_mi_scores(scores, size=(20,15)):\n",
    "    scores = scores.sort_values(ascending=True)\n",
    "    width = np.arange(len(scores))\n",
    "    ticks = list(scores.index)\n",
    "    plt.figure(figsize=size)\n",
    "    plt.barh(width, scores)\n",
    "    plt.yticks(width, ticks)\n",
    "    plt.title(\"Mutual Information Scores\")"
   ]
  },
  {
   "cell_type": "code",
   "execution_count": 11,
   "id": "5f2a909a",
   "metadata": {
    "execution": {
     "iopub.execute_input": "2023-01-07T01:06:50.437897Z",
     "iopub.status.busy": "2023-01-07T01:06:50.437180Z",
     "iopub.status.idle": "2023-01-07T01:06:53.514806Z",
     "shell.execute_reply": "2023-01-07T01:06:53.513441Z"
    },
    "papermill": {
     "duration": 3.089873,
     "end_time": "2023-01-07T01:06:53.518168",
     "exception": false,
     "start_time": "2023-01-07T01:06:50.428295",
     "status": "completed"
    },
    "tags": []
   },
   "outputs": [
    {
     "data": {
      "text/plain": [
       "OverallQual     5.838168e-01\n",
       "Neighborhood    5.295426e-01\n",
       "GrLivArea       4.334992e-01\n",
       "YearBuilt       4.077045e-01\n",
       "LotArea         3.925460e-01\n",
       "                    ...     \n",
       "Street          1.556794e-04\n",
       "Utilities       1.887379e-15\n",
       "PoolArea        2.220446e-16\n",
       "MoSold          0.000000e+00\n",
       "YrSold          0.000000e+00\n",
       "Name: MI Scores, Length: 79, dtype: float64"
      ]
     },
     "execution_count": 11,
     "metadata": {},
     "output_type": "execute_result"
    },
    {
     "data": {
      "image/png": "[encoded data removed]",
      "text/plain": [
       "<Figure size 1440x1080 with 1 Axes>"
      ]
     },
     "metadata": {
      "needs_background": "light"
     },
     "output_type": "display_data"
    }
   ],
   "source": [
    "X = df_train.copy()\n",
    "y = X.pop(\"SalePrice\")\n",
    "\n",
    "mi_scores = make_mi_scores(X, y)\n",
    "plot_mi_scores(mi_scores)\n",
    "\n",
    "mi_scores"
   ]
  },
  {
   "cell_type": "code",
   "execution_count": 12,
   "id": "7b27c139",
   "metadata": {
    "execution": {
     "iopub.execute_input": "2023-01-07T01:06:53.537171Z",
     "iopub.status.busy": "2023-01-07T01:06:53.536481Z",
     "iopub.status.idle": "2023-01-07T01:06:53.542385Z",
     "shell.execute_reply": "2023-01-07T01:06:53.540997Z"
    },
    "papermill": {
     "duration": 0.018238,
     "end_time": "2023-01-07T01:06:53.545053",
     "exception": false,
     "start_time": "2023-01-07T01:06:53.526815",
     "status": "completed"
    },
    "tags": []
   },
   "outputs": [],
   "source": [
    "def drop_uninformative(df, mi_scores):\n",
    "    return df.loc[:, mi_scores > 0.0]\n",
    "\n",
    "# removing any that are uninformative by themselves. Intereaction affects with other features may contribute information."
   ]
  },
  {
   "cell_type": "code",
   "execution_count": 13,
   "id": "34d575e5",
   "metadata": {
    "execution": {
     "iopub.execute_input": "2023-01-07T01:06:53.564276Z",
     "iopub.status.busy": "2023-01-07T01:06:53.563582Z",
     "iopub.status.idle": "2023-01-07T01:06:57.821164Z",
     "shell.execute_reply": "2023-01-07T01:06:57.819926Z"
    },
    "papermill": {
     "duration": 4.271257,
     "end_time": "2023-01-07T01:06:57.824870",
     "exception": false,
     "start_time": "2023-01-07T01:06:53.553613",
     "status": "completed"
    },
    "tags": []
   },
   "outputs": [
    {
     "data": {
      "text/plain": [
       "0.14256864423889584"
      ]
     },
     "execution_count": 13,
     "metadata": {},
     "output_type": "execute_result"
    }
   ],
   "source": [
    "# training on uninformative features can contribute to overfitting. and this demonstrates the improvement from simply removing them all\n",
    "\n",
    "X = df_train.copy()\n",
    "y = X.pop(\"SalePrice\")\n",
    "X = drop_uninformative(X, mi_scores)\n",
    "\n",
    "score_dataset(X, y)"
   ]
  },
  {
   "cell_type": "code",
   "execution_count": 14,
   "id": "bc43858a",
   "metadata": {
    "execution": {
     "iopub.execute_input": "2023-01-07T01:06:57.846962Z",
     "iopub.status.busy": "2023-01-07T01:06:57.845950Z",
     "iopub.status.idle": "2023-01-07T01:06:57.852664Z",
     "shell.execute_reply": "2023-01-07T01:06:57.851239Z"
    },
    "papermill": {
     "duration": 0.020237,
     "end_time": "2023-01-07T01:06:57.855286",
     "exception": false,
     "start_time": "2023-01-07T01:06:57.835049",
     "status": "completed"
    },
    "tags": []
   },
   "outputs": [],
   "source": [
    "def label_encode(df):\n",
    "    X = df.copy()\n",
    "    for colname in X.select_dtypes([\"category\"]):\n",
    "        X[colname] = X[colname].cat.codes\n",
    "    return X\n",
    "\n",
    "# Label encoding is usually good for categorical features with tree-ensemble models like XGBoost, even for unordered categories. \n",
    "# Linear regression models should perform better with one-hot encoding, especially for the features with unordered categories."
   ]
  },
  {
   "cell_type": "code",
   "execution_count": 15,
   "id": "d23dab5d",
   "metadata": {
    "execution": {
     "iopub.execute_input": "2023-01-07T01:06:57.876147Z",
     "iopub.status.busy": "2023-01-07T01:06:57.875695Z",
     "iopub.status.idle": "2023-01-07T01:06:57.887103Z",
     "shell.execute_reply": "2023-01-07T01:06:57.885660Z"
    },
    "papermill": {
     "duration": 0.025151,
     "end_time": "2023-01-07T01:06:57.889662",
     "exception": false,
     "start_time": "2023-01-07T01:06:57.864511",
     "status": "completed"
    },
    "tags": []
   },
   "outputs": [],
   "source": [
    "def mathematical_transforms(df):\n",
    "    X = pd.DataFrame()\n",
    "    X[\"LivLotRatio\"] = df.GrLivArea / df.LotArea\n",
    "    X[\"Spaciousness\"] = (df.FirstFlrSF + df.SecondFlrSF) / df.TotRmsAbvGrd\n",
    "    return X\n",
    "\n",
    "def interactions(df):\n",
    "    X = pd.get_dummies(df.BldgType, prefix=\"Bldg\")\n",
    "    X = X.mul(df.GrLivArea, axis=0)\n",
    "    return X\n",
    "\n",
    "def counts(df):\n",
    "    X = pd.DataFrame()\n",
    "    X[\"PorchTypes\"] = df[[\n",
    "        \"WoodDeckSF\",\n",
    "        \"OpenPorchSF\",\n",
    "        \"EnclosedPorch\",\n",
    "        \"Threeseasonporch\",\n",
    "        \"ScreenPorch\",\n",
    "    ]].gt(0.0).sum(axis=1)\n",
    "    return X\n",
    "\n",
    "def group_transforms(df):\n",
    "    X = pd.DataFrame()\n",
    "    X[\"MedNhbdArea\"] = df.groupby(\"Neighborhood\")[\"GrLivArea\"].transform(\"median\")\n",
    "    return X\n",
    "\n",
    "def break_down(df): # made score worse\n",
    "    X = pd.DataFrame()\n",
    "    X[\"MSClass\"] = df.MSSubClass.str.split(\"_\", n=1, expand=True)[0]\n",
    "    return X"
   ]
  },
  {
   "cell_type": "code",
   "execution_count": 16,
   "id": "b447cd5f",
   "metadata": {
    "execution": {
     "iopub.execute_input": "2023-01-07T01:06:57.909343Z",
     "iopub.status.busy": "2023-01-07T01:06:57.908822Z",
     "iopub.status.idle": "2023-01-07T01:06:57.922845Z",
     "shell.execute_reply": "2023-01-07T01:06:57.920670Z"
    },
    "papermill": {
     "duration": 0.026957,
     "end_time": "2023-01-07T01:06:57.925562",
     "exception": false,
     "start_time": "2023-01-07T01:06:57.898605",
     "status": "completed"
    },
    "tags": []
   },
   "outputs": [],
   "source": [
    "# PCA\n",
    "\n",
    "def apply_pca(X, standardize=True):\n",
    "    if standardize:\n",
    "        X = (X - X.mean(axis=0)) / X.std(axis=0)\n",
    "    pca = PCA()\n",
    "    X_pca = pca.fit_transform(X)\n",
    "    component_names = [f\"PC{i+1}\" for i in range(X_pca.shape[1])]\n",
    "    X_pca = pd.DataFrame(X_pca, columns=component_names)\n",
    "    loadings = pd.DataFrame(\n",
    "        pca.components_.T,  # transpose the matrix of loadings\n",
    "        columns=component_names,  # so the columns are the principal components\n",
    "        index=X.columns,  # and the rows are the original features\n",
    "    )\n",
    "    return pca, X_pca, loadings\n",
    "\n",
    "\n",
    "def plot_variance(pca, width=8, dpi=100):\n",
    "    fig, axs = plt.subplots(1, 2)\n",
    "    n = pca.n_components_\n",
    "    grid = np.arange(1, n + 1)\n",
    "    evr = pca.explained_variance_ratio_\n",
    "    axs[0].bar(grid, evr)\n",
    "    axs[0].set(\n",
    "        xlabel=\"Component\", title=\"% Explained Variance\", ylim=(0.0, 1.0)\n",
    "    )\n",
    "    # Cumulative Variance\n",
    "    cv = np.cumsum(evr)\n",
    "    axs[1].plot(np.r_[0, grid], np.r_[0, cv], \"o-\")\n",
    "    axs[1].set(\n",
    "        xlabel=\"Component\", title=\"% Cumulative Variance\", ylim=(0.0, 1.0)\n",
    "    )\n",
    "    fig.set(figwidth=8, dpi=100)\n",
    "    return axs"
   ]
  },
  {
   "cell_type": "code",
   "execution_count": 17,
   "id": "636ca159",
   "metadata": {
    "execution": {
     "iopub.execute_input": "2023-01-07T01:06:57.945971Z",
     "iopub.status.busy": "2023-01-07T01:06:57.945003Z",
     "iopub.status.idle": "2023-01-07T01:06:59.229035Z",
     "shell.execute_reply": "2023-01-07T01:06:59.227751Z"
    },
    "papermill": {
     "duration": 1.297026,
     "end_time": "2023-01-07T01:06:59.231645",
     "exception": false,
     "start_time": "2023-01-07T01:06:57.934619",
     "status": "completed"
    },
    "tags": []
   },
   "outputs": [
    {
     "data": {
      "image/png": "[encoded data removed]",
      "text/plain": [
       "<Figure size 720x720 with 4 Axes>"
      ]
     },
     "metadata": {
      "needs_background": "light"
     },
     "output_type": "display_data"
    }
   ],
   "source": [
    "def corrplot(df, method=\"pearson\", annot=True, **kwargs):\n",
    "    sns.clustermap(\n",
    "        df.corr(method),\n",
    "        vmin=-1.0,\n",
    "        vmax=1.0,\n",
    "        cmap=\"icefire\",\n",
    "        method=\"complete\",\n",
    "        annot=annot,\n",
    "        **kwargs,\n",
    "    )\n",
    "\n",
    "corrplot(df_train, annot=None)"
   ]
  },
  {
   "cell_type": "code",
   "execution_count": 18,
   "id": "2942a57b",
   "metadata": {
    "execution": {
     "iopub.execute_input": "2023-01-07T01:06:59.254809Z",
     "iopub.status.busy": "2023-01-07T01:06:59.253695Z",
     "iopub.status.idle": "2023-01-07T01:06:59.760751Z",
     "shell.execute_reply": "2023-01-07T01:06:59.759214Z"
    },
    "papermill": {
     "duration": 0.521357,
     "end_time": "2023-01-07T01:06:59.763272",
     "exception": false,
     "start_time": "2023-01-07T01:06:59.241915",
     "status": "completed"
    },
    "tags": []
   },
   "outputs": [
    {
     "name": "stdout",
     "output_type": "stream",
     "text": [
      "[0.19456635 0.09612665 0.07137841 0.05807145]\n",
      "           PC1       PC2\n",
      "0     1.388099  0.144688\n",
      "1     0.190263 -1.013087\n",
      "2     1.559996  0.066660\n",
      "3    -0.531794  1.078149\n",
      "4     4.187260  1.007630\n",
      "...        ...       ...\n",
      "1455  0.938805  1.218925\n",
      "1456  2.492966 -1.457256\n",
      "1457  0.652882  3.241961\n",
      "1458 -2.638687 -1.793981\n",
      "1459 -0.584130 -1.369481\n",
      "\n",
      "[1460 rows x 2 columns]\n",
      "                       PC1       PC2\n",
      "GrLivArea         0.316551  0.259943\n",
      "GarageCars        0.302889 -0.084305\n",
      "GarageArea        0.298804 -0.110801\n",
      "FullBath          0.276336  0.139233\n",
      "FirstFlrSF        0.270303 -0.123068\n",
      "TotalBsmtSF       0.270140 -0.185445\n",
      "TotRmsAbvGrd      0.256743  0.339115\n",
      "GarageYrBlt       0.253341 -0.197198\n",
      "YearBuilt         0.247495 -0.227102\n",
      "YearRemodAdd      0.218660 -0.114329\n",
      "MasVnrArea        0.205398 -0.023736\n",
      "Fireplaces        0.191912  0.019270\n",
      "OpenPorchSF       0.156206  0.039491\n",
      "BsmtFinSF1        0.149870 -0.291667\n",
      "WoodDeckSF        0.144530 -0.076865\n",
      "SecondFlrSF       0.143272  0.407180\n",
      "HalfBath          0.134575  0.194976\n",
      "BedroomAbvGr      0.124413  0.379126\n",
      "BsmtUnfSF         0.117654  0.139853\n",
      "LotArea           0.114813 -0.011486\n",
      "LotFrontage       0.100967  0.045548\n",
      "BsmtFullBath      0.080543 -0.296478\n",
      "PoolArea          0.052815  0.021292\n",
      "ScreenPorch       0.034044  0.021652\n",
      "MoSold            0.022320  0.030544\n",
      "Threeseasonporch  0.017189 -0.028405\n",
      "BsmtHalfBath     -0.010749  0.002098\n",
      "MiscVal          -0.011332  0.026279\n",
      "BsmtFinSF2       -0.011350 -0.062754\n",
      "KitchenAbvGr     -0.011612  0.172052\n",
      "LowQualFinSF     -0.014329  0.132156\n",
      "YrSold           -0.014514 -0.037632\n",
      "EnclosedPorch    -0.083354  0.138305\n"
     ]
    },
    {
     "data": {
      "image/png": "[encoded data removed]",
      "text/plain": [
       "<Figure size 800x400 with 2 Axes>"
      ]
     },
     "metadata": {
      "needs_background": "light"
     },
     "output_type": "display_data"
    }
   ],
   "source": [
    "X = df_train.copy()\n",
    "y = X.pop(\"SalePrice\")\n",
    "\n",
    "pca, X_pca, loadings = apply_pca(X._get_numeric_data())\n",
    "\n",
    "plot_variance(pca)\n",
    "\n",
    "print(pca.explained_variance_ratio_[:4])\n",
    "\n",
    "gtr_var_PC = X_pca.iloc[ : , :2]\n",
    "\n",
    "print(gtr_var_PC)\n",
    "\n",
    "print(loadings.iloc[ : , :2].sort_values(by='PC1', ascending=False) )\n",
    "\n",
    "def pca_inspired(df):\n",
    "    X = pd.DataFrame()\n",
    "    X[\"Feature1\"] = df.GrLivArea + df.TotalBsmtSF\n",
    "    X[\"Feature2\"] = df.YearRemodAdd * df.TotalBsmtSF\n",
    "    return X"
   ]
  },
  {
   "cell_type": "code",
   "execution_count": 19,
   "id": "dddabc90",
   "metadata": {
    "execution": {
     "iopub.execute_input": "2023-01-07T01:06:59.786776Z",
     "iopub.status.busy": "2023-01-07T01:06:59.785420Z",
     "iopub.status.idle": "2023-01-07T01:06:59.792963Z",
     "shell.execute_reply": "2023-01-07T01:06:59.791305Z"
    },
    "papermill": {
     "duration": 0.022153,
     "end_time": "2023-01-07T01:06:59.796040",
     "exception": false,
     "start_time": "2023-01-07T01:06:59.773887",
     "status": "completed"
    },
    "tags": []
   },
   "outputs": [],
   "source": [
    "# remember those partial sales....   ## but in the end this did not improve the score\n",
    "\n",
    "def indicate_outliers(df):\n",
    "    X_new = pd.DataFrame()\n",
    "    X_new[\"Outlier\"] = (df.Neighborhood == \"Edwards\") & (df.SaleCondition == \"Partial\")\n",
    "    return X_new"
   ]
  },
  {
   "cell_type": "code",
   "execution_count": 20,
   "id": "067dc545",
   "metadata": {
    "execution": {
     "iopub.execute_input": "2023-01-07T01:06:59.819431Z",
     "iopub.status.busy": "2023-01-07T01:06:59.818109Z",
     "iopub.status.idle": "2023-01-07T01:06:59.829942Z",
     "shell.execute_reply": "2023-01-07T01:06:59.828543Z"
    },
    "papermill": {
     "duration": 0.026448,
     "end_time": "2023-01-07T01:06:59.832935",
     "exception": false,
     "start_time": "2023-01-07T01:06:59.806487",
     "status": "completed"
    },
    "tags": []
   },
   "outputs": [],
   "source": [
    "# k-Means Clustering   # also did not improve the score\n",
    "\n",
    "cluster_features=['neighborhood', 'GrLivArea', 'LotArea']\n",
    "\n",
    "def cluster_labels(df, features, n_clusters=20):\n",
    "    X = df.copy()\n",
    "    X_scaled = X.loc[:, features]\n",
    "    X_scaled = (X_scaled - X_scaled.mean(axis=0)) / X_scaled.std(axis=0)\n",
    "    kmeans = KMeans(n_clusters=n_clusters, n_init=50, random_state=0)\n",
    "    X_new = pd.DataFrame()\n",
    "    X_new[\"Cluster\"] = kmeans.fit_predict(X_scaled)\n",
    "    return X_new\n",
    "\n",
    "\n",
    "def cluster_distance(df, features, n_clusters=20):\n",
    "    X = df.copy()\n",
    "    X_scaled = X.loc[:, features]\n",
    "    X_scaled = (X_scaled - X_scaled.mean(axis=0)) / X_scaled.std(axis=0)\n",
    "    kmeans = KMeans(n_clusters=20, n_init=50, random_state=0)\n",
    "    X_cd = kmeans.fit_transform(X_scaled)\n",
    "    # Label features and join to dataset\n",
    "    X_cd = pd.DataFrame(\n",
    "        X_cd, columns=[f\"Centroid_{i}\" for i in range(X_cd.shape[1])]\n",
    "    )\n",
    "    return X_cd"
   ]
  },
  {
   "cell_type": "code",
   "execution_count": 21,
   "id": "981e5b7b",
   "metadata": {
    "execution": {
     "iopub.execute_input": "2023-01-07T01:06:59.854933Z",
     "iopub.status.busy": "2023-01-07T01:06:59.854503Z",
     "iopub.status.idle": "2023-01-07T01:07:19.694683Z",
     "shell.execute_reply": "2023-01-07T01:07:19.693362Z"
    },
    "papermill": {
     "duration": 19.854495,
     "end_time": "2023-01-07T01:07:19.697539",
     "exception": false,
     "start_time": "2023-01-07T01:06:59.843044",
     "status": "completed"
    },
    "tags": []
   },
   "outputs": [
    {
     "data": {
      "text/plain": [
       "[0.14351093866598752,\n",
       " 0.14256864423889584,\n",
       " 0.14131894433427897,\n",
       " 0.1394413951532278,\n",
       " 0.1382517386239993,\n",
       " 0.1382517386239993]"
      ]
     },
     "execution_count": 21,
     "metadata": {},
     "output_type": "execute_result"
    },
    {
     "data": {
      "image/png": "[encoded data removed]",
      "text/plain": [
       "<Figure size 432x288 with 1 Axes>"
      ]
     },
     "metadata": {
      "needs_background": "light"
     },
     "output_type": "display_data"
    }
   ],
   "source": [
    "scores=[]\n",
    "\n",
    "X = df_train.copy()\n",
    "y = X.pop(\"SalePrice\")\n",
    "scores.append(score_dataset(X, y))\n",
    "X = drop_uninformative(X, mi_scores) # remove\n",
    "scores.append(score_dataset(X, y))\n",
    "X = X.join(mathematical_transforms(X)) # transform\n",
    "scores.append(score_dataset(X, y))\n",
    "X = X.join(group_transforms(X)) # \n",
    "scores.append(score_dataset(X, y))\n",
    "\n",
    "X = X.join(pca_inspired(X))\n",
    "scores.append(score_dataset(X, y))\n",
    "\n",
    "X = label_encode(X)\n",
    "scores.append(score_dataset(X, y))\n",
    "\n",
    "plt.plot(range(len(scores)), scores)\n",
    "\n",
    "scores"
   ]
  },
  {
   "cell_type": "code",
   "execution_count": 22,
   "id": "aeadfe10",
   "metadata": {
    "execution": {
     "iopub.execute_input": "2023-01-07T01:07:19.720850Z",
     "iopub.status.busy": "2023-01-07T01:07:19.720442Z",
     "iopub.status.idle": "2023-01-07T01:07:19.731039Z",
     "shell.execute_reply": "2023-01-07T01:07:19.730195Z"
    },
    "papermill": {
     "duration": 0.025247,
     "end_time": "2023-01-07T01:07:19.733180",
     "exception": false,
     "start_time": "2023-01-07T01:07:19.707933",
     "status": "completed"
    },
    "tags": []
   },
   "outputs": [],
   "source": [
    "class CrossFoldEncoder:\n",
    "    def __init__(self, encoder, **kwargs):\n",
    "        self.encoder_ = encoder\n",
    "        self.kwargs_ = kwargs  # keyword arguments for the encoder\n",
    "        self.cv_ = KFold(n_splits=5)\n",
    "\n",
    "    def fit_transform(self, X, y, cols):\n",
    "        self.fitted_encoders_ = []\n",
    "        self.cols_ = cols\n",
    "        X_encoded = []\n",
    "        for idx_encode, idx_train in self.cv_.split(X):\n",
    "            fitted_encoder = self.encoder_(cols=cols, **self.kwargs_)\n",
    "            fitted_encoder.fit(\n",
    "                X.iloc[idx_encode, :], y.iloc[idx_encode],\n",
    "            )\n",
    "            X_encoded.append(fitted_encoder.transform(X.iloc[idx_train, :])[cols])\n",
    "            self.fitted_encoders_.append(fitted_encoder)\n",
    "        X_encoded = pd.concat(X_encoded)\n",
    "        X_encoded.columns = [name + \"_encoded\" for name in X_encoded.columns]\n",
    "        return X_encoded\n",
    "\n",
    "    def transform(self, X):\n",
    "        from functools import reduce\n",
    "\n",
    "        X_encoded_list = []\n",
    "        for fitted_encoder in self.fitted_encoders_:\n",
    "            X_encoded = fitted_encoder.transform(X)\n",
    "            X_encoded_list.append(X_encoded[self.cols_])\n",
    "        X_encoded = reduce(\n",
    "            lambda x, y: x.add(y, fill_value=0), X_encoded_list\n",
    "        ) / len(X_encoded_list)\n",
    "        X_encoded.columns = [name + \"_encoded\" for name in X_encoded.columns]\n",
    "        return X_encoded"
   ]
  },
  {
   "cell_type": "code",
   "execution_count": 23,
   "id": "71edc147",
   "metadata": {
    "execution": {
     "iopub.execute_input": "2023-01-07T01:07:19.756445Z",
     "iopub.status.busy": "2023-01-07T01:07:19.755992Z",
     "iopub.status.idle": "2023-01-07T01:07:25.197484Z",
     "shell.execute_reply": "2023-01-07T01:07:25.196486Z"
    },
    "papermill": {
     "duration": 5.456852,
     "end_time": "2023-01-07T01:07:25.200303",
     "exception": false,
     "start_time": "2023-01-07T01:07:19.743451",
     "status": "completed"
    },
    "tags": []
   },
   "outputs": [
    {
     "name": "stderr",
     "output_type": "stream",
     "text": [
      "/opt/conda/lib/python3.7/site-packages/pandas/core/arrays/categorical.py:2631: FutureWarning: The `inplace` parameter in pandas.Categorical.add_categories is deprecated and will be removed in a future version. Removing unused categories will always return a new Categorical object.\n",
      "  res = method(*args, **kwargs)\n"
     ]
    },
    {
     "data": {
      "text/plain": [
       "0.13841538314733068"
      ]
     },
     "execution_count": 23,
     "metadata": {},
     "output_type": "execute_result"
    }
   ],
   "source": [
    "def create_features(df, df_test=None):\n",
    "    X = df.copy()\n",
    "    y = X.pop(\"SalePrice\")\n",
    "    mi_scores = make_mi_scores(X, y)\n",
    "\n",
    "    # Using all the data available to create features. Then recreating the splits.\n",
    "    if df_test is not None:\n",
    "        X_test = df_test.copy()\n",
    "        X_test.pop(\"SalePrice\")\n",
    "        X = pd.concat([X, X_test])\n",
    "\n",
    "    # Mutual Information\n",
    "    X = drop_uninformative(X, mi_scores)\n",
    "\n",
    "    # Transformations\n",
    "    X = X.join(mathematical_transforms(X))\n",
    "    X = X.join(interactions(X))\n",
    "    X = X.join(counts(X))\n",
    "    # X = X.join(break_down(X))\n",
    "    X = X.join(group_transforms(X))\n",
    "\n",
    "    # Clustering\n",
    "    # X = X.join(cluster_labels(X, cluster_features, n_clusters=20))\n",
    "    # X = X.join(cluster_distance(X, cluster_features, n_clusters=20))\n",
    "\n",
    "    # PCA\n",
    "    X = X.join(pca_inspired(X))\n",
    "    # X = X.join(pca_components(X, pca_features))\n",
    "    # X = X.join(indicate_outliers(X))\n",
    "\n",
    "    X = label_encode(X)\n",
    "\n",
    "    # Reform splits\n",
    "    if df_test is not None:\n",
    "        X_test = X.loc[df_test.index, :]\n",
    "        X.drop(df_test.index, inplace=True)\n",
    "\n",
    "    # Target Encoder\n",
    "    encoder = CrossFoldEncoder(MEstimateEncoder, m=1)\n",
    "    X = X.join(encoder.fit_transform(X, y, cols=[\"MSSubClass\"]))\n",
    "    if df_test is not None:\n",
    "        X_test = X_test.join(encoder.transform(X_test))\n",
    "\n",
    "    if df_test is not None:\n",
    "        return X, X_test\n",
    "    else:\n",
    "        return X\n",
    "\n",
    "df_train, df_test = load_data()\n",
    "X_train = create_features(df_train)\n",
    "y_train = df_train.loc[:, \"SalePrice\"]\n",
    "\n",
    "score_dataset(X_train, y_train)"
   ]
  },
  {
   "cell_type": "code",
   "execution_count": 24,
   "id": "f36fcf75",
   "metadata": {
    "execution": {
     "iopub.execute_input": "2023-01-07T01:07:25.225798Z",
     "iopub.status.busy": "2023-01-07T01:07:25.224842Z",
     "iopub.status.idle": "2023-01-07T01:07:53.070315Z",
     "shell.execute_reply": "2023-01-07T01:07:53.069230Z"
    },
    "papermill": {
     "duration": 27.860733,
     "end_time": "2023-01-07T01:07:53.073273",
     "exception": false,
     "start_time": "2023-01-07T01:07:25.212540",
     "status": "completed"
    },
    "tags": []
   },
   "outputs": [
    {
     "data": {
      "text/plain": [
       "0.12387873374982647"
      ]
     },
     "execution_count": 24,
     "metadata": {},
     "output_type": "execute_result"
    }
   ],
   "source": [
    "X_train = create_features(df_train)\n",
    "y_train = df_train.loc[:, \"SalePrice\"]\n",
    "\n",
    "xgb_params = dict(  \n",
    "    max_depth=6, \n",
    "    learning_rate=0.01,\n",
    "    n_estimators=1000, \n",
    "    min_child_weight=1, \n",
    "    colsample_bytree=0.7, \n",
    "    subsample=0.7,     \n",
    "    reg_alpha=0.5,    \n",
    "    reg_lambda=1.0, \n",
    "    num_parallel_tree=1, \n",
    ")\n",
    "\n",
    "xgb = XGBRegressor(**xgb_params)\n",
    "score_dataset(X_train, y_train, xgb)"
   ]
  },
  {
   "cell_type": "code",
   "execution_count": 25,
   "id": "b1579b1a",
   "metadata": {
    "execution": {
     "iopub.execute_input": "2023-01-07T01:07:53.097351Z",
     "iopub.status.busy": "2023-01-07T01:07:53.096876Z",
     "iopub.status.idle": "2023-01-07T01:08:01.586406Z",
     "shell.execute_reply": "2023-01-07T01:08:01.585370Z"
    },
    "papermill": {
     "duration": 8.5041,
     "end_time": "2023-01-07T01:08:01.589073",
     "exception": false,
     "start_time": "2023-01-07T01:07:53.084973",
     "status": "completed"
    },
    "tags": []
   },
   "outputs": [
    {
     "data": {
      "text/html": [
       "<div>\n",
       "<style scoped>\n",
       "    .dataframe tbody tr th:only-of-type {\n",
       "        vertical-align: middle;\n",
       "    }\n",
       "\n",
       "    .dataframe tbody tr th {\n",
       "        vertical-align: top;\n",
       "    }\n",
       "\n",
       "    .dataframe thead th {\n",
       "        text-align: right;\n",
       "    }\n",
       "</style>\n",
       "<table border=\"1\" class=\"dataframe\">\n",
       "  <thead>\n",
       "    <tr style=\"text-align: right;\">\n",
       "      <th></th>\n",
       "      <th>Id</th>\n",
       "      <th>SalePrice</th>\n",
       "    </tr>\n",
       "  </thead>\n",
       "  <tbody>\n",
       "    <tr>\n",
       "      <th>0</th>\n",
       "      <td>1461</td>\n",
       "      <td>124054.648438</td>\n",
       "    </tr>\n",
       "    <tr>\n",
       "      <th>1</th>\n",
       "      <td>1462</td>\n",
       "      <td>164882.765625</td>\n",
       "    </tr>\n",
       "    <tr>\n",
       "      <th>2</th>\n",
       "      <td>1463</td>\n",
       "      <td>195615.937500</td>\n",
       "    </tr>\n",
       "    <tr>\n",
       "      <th>3</th>\n",
       "      <td>1464</td>\n",
       "      <td>193867.187500</td>\n",
       "    </tr>\n",
       "    <tr>\n",
       "      <th>4</th>\n",
       "      <td>1465</td>\n",
       "      <td>191335.578125</td>\n",
       "    </tr>\n",
       "    <tr>\n",
       "      <th>...</th>\n",
       "      <td>...</td>\n",
       "      <td>...</td>\n",
       "    </tr>\n",
       "    <tr>\n",
       "      <th>1454</th>\n",
       "      <td>2915</td>\n",
       "      <td>84268.187500</td>\n",
       "    </tr>\n",
       "    <tr>\n",
       "      <th>1455</th>\n",
       "      <td>2916</td>\n",
       "      <td>87208.132812</td>\n",
       "    </tr>\n",
       "    <tr>\n",
       "      <th>1456</th>\n",
       "      <td>2917</td>\n",
       "      <td>147899.218750</td>\n",
       "    </tr>\n",
       "    <tr>\n",
       "      <th>1457</th>\n",
       "      <td>2918</td>\n",
       "      <td>119129.718750</td>\n",
       "    </tr>\n",
       "    <tr>\n",
       "      <th>1458</th>\n",
       "      <td>2919</td>\n",
       "      <td>199970.078125</td>\n",
       "    </tr>\n",
       "  </tbody>\n",
       "</table>\n",
       "<p>1459 rows × 2 columns</p>\n",
       "</div>"
      ],
      "text/plain": [
       "        Id      SalePrice\n",
       "0     1461  124054.648438\n",
       "1     1462  164882.765625\n",
       "2     1463  195615.937500\n",
       "3     1464  193867.187500\n",
       "4     1465  191335.578125\n",
       "...    ...            ...\n",
       "1454  2915   84268.187500\n",
       "1455  2916   87208.132812\n",
       "1456  2917  147899.218750\n",
       "1457  2918  119129.718750\n",
       "1458  2919  199970.078125\n",
       "\n",
       "[1459 rows x 2 columns]"
      ]
     },
     "execution_count": 25,
     "metadata": {},
     "output_type": "execute_result"
    }
   ],
   "source": [
    "X_train, X_test = create_features(df_train, df_test)\n",
    "y_train = df_train.loc[:, \"SalePrice\"]\n",
    "\n",
    "xgb = XGBRegressor(**xgb_params)\n",
    "xgb.fit(X_train, np.log(y))\n",
    "predictions = np.exp(xgb.predict(X_test))\n",
    "\n",
    "output = pd.DataFrame({'Id': X_test.index, 'SalePrice': predictions})\n",
    "output.to_csv('submission.csv', index=False)\n",
    "\n",
    "output"
   ]
  }
 ],
 "metadata": {
  "kernelspec": {
   "display_name": "Python 3",
   "language": "python",
   "name": "python3"
  },
  "language_info": {
   "codemirror_mode": {
    "name": "ipython",
    "version": 3
   },
   "file_extension": ".py",
   "mimetype": "text/x-python",
   "name": "python",
   "nbconvert_exporter": "python",
   "pygments_lexer": "ipython3",
   "version": "3.7.12"
  },
  "papermill": {
   "default_parameters": {},
   "duration": 87.598218,
   "end_time": "2023-01-07T01:08:02.424197",
   "environment_variables": {},
   "exception": null,
   "input_path": "__notebook__.ipynb",
   "output_path": "__notebook__.ipynb",
   "parameters": {},
   "start_time": "2023-01-07T01:06:34.825979",
   "version": "2.3.4"
  }
 },
 "nbformat": 4,
 "nbformat_minor": 5
}
