{
 "cells": [
  {
   "cell_type": "code",
   "execution_count": 1,
   "id": "53349a3d",
   "metadata": {
    "_cell_guid": "b1076dfc-b9ad-4769-8c92-a6c4dae69d19",
    "_uuid": "8f2839f25d086af736a60e9eeb907d3b93b6e0e5",
    "execution": {
     "iopub.execute_input": "2023-01-09T16:17:21.835568Z",
     "iopub.status.busy": "2023-01-09T16:17:21.834982Z",
     "iopub.status.idle": "2023-01-09T16:17:21.849018Z",
     "shell.execute_reply": "2023-01-09T16:17:21.847948Z"
    },
    "papermill": {
     "duration": 0.030788,
     "end_time": "2023-01-09T16:17:21.852453",
     "exception": false,
     "start_time": "2023-01-09T16:17:21.821665",
     "status": "completed"
    },
    "tags": []
   },
   "outputs": [
    {
     "name": "stdout",
     "output_type": "stream",
     "text": [
      "/kaggle/input/spaceship-titanic/sample_submission.csv\n",
      "/kaggle/input/spaceship-titanic/train.csv\n",
      "/kaggle/input/spaceship-titanic/test.csv\n"
     ]
    }
   ],
   "source": [
    "# This Python 3 environment comes with many helpful analytics libraries installed\n",
    "# It is defined by the kaggle/python Docker image: https://github.com/kaggle/docker-python\n",
    "# For example, here's several helpful packages to load\n",
    "\n",
    "import numpy as np # linear algebra\n",
    "import pandas as pd # data processing, CSV file I/O (e.g. pd.read_csv)\n",
    "\n",
    "# Input data files are available in the read-only \"../input/\" directory\n",
    "# For example, running this (by clicking run or pressing Shift+Enter) will list all files under the input directory\n",
    "\n",
    "import os\n",
    "for dirname, _, filenames in os.walk('/kaggle/input'):\n",
    "    for filename in filenames:\n",
    "        print(os.path.join(dirname, filename))\n",
    "\n",
    "# You can write up to 20GB to the current directory (/kaggle/working/) that gets preserved as output when you create a version using \"Save & Run All\" \n",
    "# You can also write temporary files to /kaggle/temp/, but they won't be saved outside of the current session"
   ]
  },
  {
   "cell_type": "code",
   "execution_count": 2,
   "id": "4ffa8996",
   "metadata": {
    "execution": {
     "iopub.execute_input": "2023-01-09T16:17:21.877263Z",
     "iopub.status.busy": "2023-01-09T16:17:21.876867Z",
     "iopub.status.idle": "2023-01-09T16:17:23.617953Z",
     "shell.execute_reply": "2023-01-09T16:17:23.616314Z"
    },
    "papermill": {
     "duration": 1.75762,
     "end_time": "2023-01-09T16:17:23.621231",
     "exception": false,
     "start_time": "2023-01-09T16:17:21.863611",
     "status": "completed"
    },
    "tags": []
   },
   "outputs": [],
   "source": [
    "import matplotlib.pyplot as plt\n",
    "import seaborn as sns\n",
    "\n",
    "from sklearn.preprocessing import OrdinalEncoder, OneHotEncoder\n",
    "\n",
    "from xgboost import XGBClassifier\n",
    "from sklearn.model_selection import cross_val_score #, KFold\n",
    "\n",
    "from sklearn.feature_selection import mutual_info_regression"
   ]
  },
  {
   "cell_type": "code",
   "execution_count": 3,
   "id": "2e20272d",
   "metadata": {
    "execution": {
     "iopub.execute_input": "2023-01-09T16:17:23.643086Z",
     "iopub.status.busy": "2023-01-09T16:17:23.642622Z",
     "iopub.status.idle": "2023-01-09T16:17:23.734487Z",
     "shell.execute_reply": "2023-01-09T16:17:23.732890Z"
    },
    "papermill": {
     "duration": 0.106212,
     "end_time": "2023-01-09T16:17:23.737518",
     "exception": false,
     "start_time": "2023-01-09T16:17:23.631306",
     "status": "completed"
    },
    "tags": []
   },
   "outputs": [],
   "source": [
    "df_train = pd.read_csv(\"/kaggle/input/spaceship-titanic/train.csv\")\n",
    "df_test = pd.read_csv(\"/kaggle/input/spaceship-titanic/test.csv\")"
   ]
  },
  {
   "cell_type": "code",
   "execution_count": 4,
   "id": "83c65491",
   "metadata": {
    "execution": {
     "iopub.execute_input": "2023-01-09T16:17:23.761579Z",
     "iopub.status.busy": "2023-01-09T16:17:23.760346Z",
     "iopub.status.idle": "2023-01-09T16:17:23.784772Z",
     "shell.execute_reply": "2023-01-09T16:17:23.783426Z"
    },
    "papermill": {
     "duration": 0.039053,
     "end_time": "2023-01-09T16:17:23.787625",
     "exception": false,
     "start_time": "2023-01-09T16:17:23.748572",
     "status": "completed"
    },
    "tags": []
   },
   "outputs": [
    {
     "data": {
      "text/plain": [
       "count     8693\n",
       "unique       2\n",
       "top       True\n",
       "freq      4378\n",
       "Name: Transported, dtype: object"
      ]
     },
     "execution_count": 4,
     "metadata": {},
     "output_type": "execute_result"
    }
   ],
   "source": [
    "df_train.Transported.describe()"
   ]
  },
  {
   "cell_type": "code",
   "execution_count": 5,
   "id": "4e65ece0",
   "metadata": {
    "execution": {
     "iopub.execute_input": "2023-01-09T16:17:23.810914Z",
     "iopub.status.busy": "2023-01-09T16:17:23.810392Z",
     "iopub.status.idle": "2023-01-09T16:17:23.835384Z",
     "shell.execute_reply": "2023-01-09T16:17:23.834062Z"
    },
    "papermill": {
     "duration": 0.039386,
     "end_time": "2023-01-09T16:17:23.838370",
     "exception": false,
     "start_time": "2023-01-09T16:17:23.798984",
     "status": "completed"
    },
    "tags": []
   },
   "outputs": [
    {
     "data": {
      "text/plain": [
       "0"
      ]
     },
     "execution_count": 5,
     "metadata": {},
     "output_type": "execute_result"
    }
   ],
   "source": [
    "df_train.duplicated().sum()"
   ]
  },
  {
   "cell_type": "code",
   "execution_count": 6,
   "id": "fb4ace17",
   "metadata": {
    "execution": {
     "iopub.execute_input": "2023-01-09T16:17:23.862134Z",
     "iopub.status.busy": "2023-01-09T16:17:23.861210Z",
     "iopub.status.idle": "2023-01-09T16:17:23.885818Z",
     "shell.execute_reply": "2023-01-09T16:17:23.884055Z"
    },
    "papermill": {
     "duration": 0.039868,
     "end_time": "2023-01-09T16:17:23.888628",
     "exception": false,
     "start_time": "2023-01-09T16:17:23.848760",
     "status": "completed"
    },
    "tags": []
   },
   "outputs": [
    {
     "name": "stdout",
     "output_type": "stream",
     "text": [
      "<class 'pandas.core.frame.DataFrame'>\n",
      "RangeIndex: 8693 entries, 0 to 8692\n",
      "Data columns (total 14 columns):\n",
      " #   Column        Non-Null Count  Dtype  \n",
      "---  ------        --------------  -----  \n",
      " 0   PassengerId   8693 non-null   object \n",
      " 1   HomePlanet    8492 non-null   object \n",
      " 2   CryoSleep     8476 non-null   object \n",
      " 3   Cabin         8494 non-null   object \n",
      " 4   Destination   8511 non-null   object \n",
      " 5   Age           8514 non-null   float64\n",
      " 6   VIP           8490 non-null   object \n",
      " 7   RoomService   8512 non-null   float64\n",
      " 8   FoodCourt     8510 non-null   float64\n",
      " 9   ShoppingMall  8485 non-null   float64\n",
      " 10  Spa           8510 non-null   float64\n",
      " 11  VRDeck        8505 non-null   float64\n",
      " 12  Name          8493 non-null   object \n",
      " 13  Transported   8693 non-null   bool   \n",
      "dtypes: bool(1), float64(6), object(7)\n",
      "memory usage: 891.5+ KB\n"
     ]
    }
   ],
   "source": [
    "df_train.info()"
   ]
  },
  {
   "cell_type": "code",
   "execution_count": 7,
   "id": "6e370cde",
   "metadata": {
    "execution": {
     "iopub.execute_input": "2023-01-09T16:17:23.910656Z",
     "iopub.status.busy": "2023-01-09T16:17:23.910084Z",
     "iopub.status.idle": "2023-01-09T16:17:23.916921Z",
     "shell.execute_reply": "2023-01-09T16:17:23.915611Z"
    },
    "papermill": {
     "duration": 0.020822,
     "end_time": "2023-01-09T16:17:23.919225",
     "exception": false,
     "start_time": "2023-01-09T16:17:23.898403",
     "status": "completed"
    },
    "tags": []
   },
   "outputs": [],
   "source": [
    "features=df_train.columns\n",
    "\n",
    "numerical_features = df_train._get_numeric_data().columns\n",
    "\n",
    "categorical_features = list(set(features)-set(numerical_features))\n",
    "\n",
    "numerical_features = list(set(numerical_features))"
   ]
  },
  {
   "cell_type": "code",
   "execution_count": 8,
   "id": "bdb88bd6",
   "metadata": {
    "execution": {
     "iopub.execute_input": "2023-01-09T16:17:23.941165Z",
     "iopub.status.busy": "2023-01-09T16:17:23.940215Z",
     "iopub.status.idle": "2023-01-09T16:17:23.947236Z",
     "shell.execute_reply": "2023-01-09T16:17:23.945949Z"
    },
    "papermill": {
     "duration": 0.020927,
     "end_time": "2023-01-09T16:17:23.949946",
     "exception": false,
     "start_time": "2023-01-09T16:17:23.929019",
     "status": "completed"
    },
    "tags": []
   },
   "outputs": [],
   "source": [
    "# subdivisions of categorical\n",
    "nominal_features = ['PassengerId', 'GroupId', 'HomePlanet', 'Cabin', 'Name']\n",
    "\n",
    "ordinal_features = ['Destination', 'Size_of_group', 'DeckNum', 'CabinNum']\n",
    "\n",
    "binary_features = ['CryoSleep', 'VIP', 'Side']"
   ]
  },
  {
   "cell_type": "code",
   "execution_count": 9,
   "id": "52be6038",
   "metadata": {
    "execution": {
     "iopub.execute_input": "2023-01-09T16:17:23.971364Z",
     "iopub.status.busy": "2023-01-09T16:17:23.970787Z",
     "iopub.status.idle": "2023-01-09T16:17:24.026849Z",
     "shell.execute_reply": "2023-01-09T16:17:24.025430Z"
    },
    "papermill": {
     "duration": 0.06982,
     "end_time": "2023-01-09T16:17:24.029471",
     "exception": false,
     "start_time": "2023-01-09T16:17:23.959651",
     "status": "completed"
    },
    "tags": []
   },
   "outputs": [
    {
     "data": {
      "text/html": [
       "<div>\n",
       "<style scoped>\n",
       "    .dataframe tbody tr th:only-of-type {\n",
       "        vertical-align: middle;\n",
       "    }\n",
       "\n",
       "    .dataframe tbody tr th {\n",
       "        vertical-align: top;\n",
       "    }\n",
       "\n",
       "    .dataframe thead th {\n",
       "        text-align: right;\n",
       "    }\n",
       "</style>\n",
       "<table border=\"1\" class=\"dataframe\">\n",
       "  <thead>\n",
       "    <tr style=\"text-align: right;\">\n",
       "      <th></th>\n",
       "      <th>Train_Total</th>\n",
       "      <th>Train_Percent</th>\n",
       "      <th>Test_Total</th>\n",
       "      <th>Test_Percent</th>\n",
       "    </tr>\n",
       "  </thead>\n",
       "  <tbody>\n",
       "    <tr>\n",
       "      <th>CryoSleep</th>\n",
       "      <td>217</td>\n",
       "      <td>2.496261</td>\n",
       "      <td>93.0</td>\n",
       "      <td>2.174421</td>\n",
       "    </tr>\n",
       "    <tr>\n",
       "      <th>ShoppingMall</th>\n",
       "      <td>208</td>\n",
       "      <td>2.392730</td>\n",
       "      <td>98.0</td>\n",
       "      <td>2.291326</td>\n",
       "    </tr>\n",
       "    <tr>\n",
       "      <th>VIP</th>\n",
       "      <td>203</td>\n",
       "      <td>2.335212</td>\n",
       "      <td>93.0</td>\n",
       "      <td>2.174421</td>\n",
       "    </tr>\n",
       "    <tr>\n",
       "      <th>HomePlanet</th>\n",
       "      <td>201</td>\n",
       "      <td>2.312205</td>\n",
       "      <td>87.0</td>\n",
       "      <td>2.034136</td>\n",
       "    </tr>\n",
       "    <tr>\n",
       "      <th>Name</th>\n",
       "      <td>200</td>\n",
       "      <td>2.300702</td>\n",
       "      <td>94.0</td>\n",
       "      <td>2.197802</td>\n",
       "    </tr>\n",
       "    <tr>\n",
       "      <th>Cabin</th>\n",
       "      <td>199</td>\n",
       "      <td>2.289198</td>\n",
       "      <td>100.0</td>\n",
       "      <td>2.338087</td>\n",
       "    </tr>\n",
       "    <tr>\n",
       "      <th>VRDeck</th>\n",
       "      <td>188</td>\n",
       "      <td>2.162660</td>\n",
       "      <td>80.0</td>\n",
       "      <td>1.870470</td>\n",
       "    </tr>\n",
       "    <tr>\n",
       "      <th>FoodCourt</th>\n",
       "      <td>183</td>\n",
       "      <td>2.105142</td>\n",
       "      <td>106.0</td>\n",
       "      <td>2.478373</td>\n",
       "    </tr>\n",
       "    <tr>\n",
       "      <th>Spa</th>\n",
       "      <td>183</td>\n",
       "      <td>2.105142</td>\n",
       "      <td>101.0</td>\n",
       "      <td>2.361468</td>\n",
       "    </tr>\n",
       "    <tr>\n",
       "      <th>Destination</th>\n",
       "      <td>182</td>\n",
       "      <td>2.093639</td>\n",
       "      <td>92.0</td>\n",
       "      <td>2.151040</td>\n",
       "    </tr>\n",
       "    <tr>\n",
       "      <th>RoomService</th>\n",
       "      <td>181</td>\n",
       "      <td>2.082135</td>\n",
       "      <td>82.0</td>\n",
       "      <td>1.917232</td>\n",
       "    </tr>\n",
       "  </tbody>\n",
       "</table>\n",
       "</div>"
      ],
      "text/plain": [
       "              Train_Total  Train_Percent  Test_Total  Test_Percent\n",
       "CryoSleep             217       2.496261        93.0      2.174421\n",
       "ShoppingMall          208       2.392730        98.0      2.291326\n",
       "VIP                   203       2.335212        93.0      2.174421\n",
       "HomePlanet            201       2.312205        87.0      2.034136\n",
       "Name                  200       2.300702        94.0      2.197802\n",
       "Cabin                 199       2.289198       100.0      2.338087\n",
       "VRDeck                188       2.162660        80.0      1.870470\n",
       "FoodCourt             183       2.105142       106.0      2.478373\n",
       "Spa                   183       2.105142       101.0      2.361468\n",
       "Destination           182       2.093639        92.0      2.151040\n",
       "RoomService           181       2.082135        82.0      1.917232"
      ]
     },
     "execution_count": 9,
     "metadata": {},
     "output_type": "execute_result"
    }
   ],
   "source": [
    "total = df_train.isnull().sum().sort_values(ascending=False)\n",
    "percent = 100*(df_train.isnull().sum()/df_train.isnull().count()).sort_values(ascending=False)\n",
    "test_total = df_test.isnull().sum().sort_values(ascending=False)\n",
    "test_percent = 100*(df_test.isnull().sum()/df_test.isnull().count()).sort_values(ascending=False)\n",
    "missing_data = pd.concat([total, percent, test_total, test_percent], axis=1, keys=['Train_Total', 'Train_Percent', 'Test_Total', 'Test_Percent'])\n",
    "\n",
    "missing_data[(missing_data.Train_Total >0) | (missing_data.Test_Total > 0)][ : -1] # as the last is just the missing target from the test data"
   ]
  },
  {
   "cell_type": "code",
   "execution_count": 10,
   "id": "6e376fbc",
   "metadata": {
    "execution": {
     "iopub.execute_input": "2023-01-09T16:17:24.052779Z",
     "iopub.status.busy": "2023-01-09T16:17:24.052283Z",
     "iopub.status.idle": "2023-01-09T16:17:24.088629Z",
     "shell.execute_reply": "2023-01-09T16:17:24.086817Z"
    },
    "papermill": {
     "duration": 0.050597,
     "end_time": "2023-01-09T16:17:24.091120",
     "exception": false,
     "start_time": "2023-01-09T16:17:24.040523",
     "status": "completed"
    },
    "tags": []
   },
   "outputs": [
    {
     "data": {
      "text/html": [
       "<div>\n",
       "<style scoped>\n",
       "    .dataframe tbody tr th:only-of-type {\n",
       "        vertical-align: middle;\n",
       "    }\n",
       "\n",
       "    .dataframe tbody tr th {\n",
       "        vertical-align: top;\n",
       "    }\n",
       "\n",
       "    .dataframe thead th {\n",
       "        text-align: right;\n",
       "    }\n",
       "</style>\n",
       "<table border=\"1\" class=\"dataframe\">\n",
       "  <thead>\n",
       "    <tr style=\"text-align: right;\">\n",
       "      <th></th>\n",
       "      <th>PassengerId</th>\n",
       "      <th>HomePlanet</th>\n",
       "      <th>CryoSleep</th>\n",
       "      <th>Cabin</th>\n",
       "      <th>Destination</th>\n",
       "      <th>Age</th>\n",
       "      <th>VIP</th>\n",
       "      <th>RoomService</th>\n",
       "      <th>FoodCourt</th>\n",
       "      <th>ShoppingMall</th>\n",
       "      <th>Spa</th>\n",
       "      <th>VRDeck</th>\n",
       "      <th>Name</th>\n",
       "      <th>Transported</th>\n",
       "    </tr>\n",
       "  </thead>\n",
       "  <tbody>\n",
       "    <tr>\n",
       "      <th>27</th>\n",
       "      <td>0022_01</td>\n",
       "      <td>Mars</td>\n",
       "      <td>False</td>\n",
       "      <td>D/0/P</td>\n",
       "      <td>TRAPPIST-1e</td>\n",
       "      <td>21.0</td>\n",
       "      <td>False</td>\n",
       "      <td>980.0</td>\n",
       "      <td>2.0</td>\n",
       "      <td>69.0</td>\n",
       "      <td>0.0</td>\n",
       "      <td>0.0</td>\n",
       "      <td>NaN</td>\n",
       "      <td>False</td>\n",
       "    </tr>\n",
       "    <tr>\n",
       "      <th>58</th>\n",
       "      <td>0064_01</td>\n",
       "      <td>Mars</td>\n",
       "      <td>True</td>\n",
       "      <td>F/14/S</td>\n",
       "      <td>TRAPPIST-1e</td>\n",
       "      <td>15.0</td>\n",
       "      <td>False</td>\n",
       "      <td>0.0</td>\n",
       "      <td>0.0</td>\n",
       "      <td>0.0</td>\n",
       "      <td>0.0</td>\n",
       "      <td>0.0</td>\n",
       "      <td>NaN</td>\n",
       "      <td>True</td>\n",
       "    </tr>\n",
       "    <tr>\n",
       "      <th>65</th>\n",
       "      <td>0069_01</td>\n",
       "      <td>Earth</td>\n",
       "      <td>False</td>\n",
       "      <td>F/16/S</td>\n",
       "      <td>TRAPPIST-1e</td>\n",
       "      <td>42.0</td>\n",
       "      <td>False</td>\n",
       "      <td>887.0</td>\n",
       "      <td>0.0</td>\n",
       "      <td>9.0</td>\n",
       "      <td>6.0</td>\n",
       "      <td>0.0</td>\n",
       "      <td>NaN</td>\n",
       "      <td>True</td>\n",
       "    </tr>\n",
       "    <tr>\n",
       "      <th>77</th>\n",
       "      <td>0082_03</td>\n",
       "      <td>Mars</td>\n",
       "      <td>False</td>\n",
       "      <td>F/16/P</td>\n",
       "      <td>TRAPPIST-1e</td>\n",
       "      <td>8.0</td>\n",
       "      <td>False</td>\n",
       "      <td>0.0</td>\n",
       "      <td>0.0</td>\n",
       "      <td>0.0</td>\n",
       "      <td>0.0</td>\n",
       "      <td>0.0</td>\n",
       "      <td>NaN</td>\n",
       "      <td>True</td>\n",
       "    </tr>\n",
       "    <tr>\n",
       "      <th>101</th>\n",
       "      <td>0108_02</td>\n",
       "      <td>Earth</td>\n",
       "      <td>False</td>\n",
       "      <td>G/19/S</td>\n",
       "      <td>TRAPPIST-1e</td>\n",
       "      <td>31.0</td>\n",
       "      <td>False</td>\n",
       "      <td>562.0</td>\n",
       "      <td>0.0</td>\n",
       "      <td>326.0</td>\n",
       "      <td>0.0</td>\n",
       "      <td>0.0</td>\n",
       "      <td>NaN</td>\n",
       "      <td>False</td>\n",
       "    </tr>\n",
       "    <tr>\n",
       "      <th>...</th>\n",
       "      <td>...</td>\n",
       "      <td>...</td>\n",
       "      <td>...</td>\n",
       "      <td>...</td>\n",
       "      <td>...</td>\n",
       "      <td>...</td>\n",
       "      <td>...</td>\n",
       "      <td>...</td>\n",
       "      <td>...</td>\n",
       "      <td>...</td>\n",
       "      <td>...</td>\n",
       "      <td>...</td>\n",
       "      <td>...</td>\n",
       "      <td>...</td>\n",
       "    </tr>\n",
       "    <tr>\n",
       "      <th>8629</th>\n",
       "      <td>9205_02</td>\n",
       "      <td>Europa</td>\n",
       "      <td>True</td>\n",
       "      <td>B/300/P</td>\n",
       "      <td>TRAPPIST-1e</td>\n",
       "      <td>15.0</td>\n",
       "      <td>False</td>\n",
       "      <td>0.0</td>\n",
       "      <td>0.0</td>\n",
       "      <td>0.0</td>\n",
       "      <td>0.0</td>\n",
       "      <td>0.0</td>\n",
       "      <td>NaN</td>\n",
       "      <td>True</td>\n",
       "    </tr>\n",
       "    <tr>\n",
       "      <th>8631</th>\n",
       "      <td>9208_01</td>\n",
       "      <td>Earth</td>\n",
       "      <td>True</td>\n",
       "      <td>G/1485/S</td>\n",
       "      <td>TRAPPIST-1e</td>\n",
       "      <td>35.0</td>\n",
       "      <td>False</td>\n",
       "      <td>0.0</td>\n",
       "      <td>0.0</td>\n",
       "      <td>0.0</td>\n",
       "      <td>0.0</td>\n",
       "      <td>0.0</td>\n",
       "      <td>NaN</td>\n",
       "      <td>True</td>\n",
       "    </tr>\n",
       "    <tr>\n",
       "      <th>8636</th>\n",
       "      <td>9218_01</td>\n",
       "      <td>Europa</td>\n",
       "      <td>True</td>\n",
       "      <td>B/353/S</td>\n",
       "      <td>55 Cancri e</td>\n",
       "      <td>43.0</td>\n",
       "      <td>False</td>\n",
       "      <td>0.0</td>\n",
       "      <td>0.0</td>\n",
       "      <td>0.0</td>\n",
       "      <td>0.0</td>\n",
       "      <td>0.0</td>\n",
       "      <td>NaN</td>\n",
       "      <td>True</td>\n",
       "    </tr>\n",
       "    <tr>\n",
       "      <th>8652</th>\n",
       "      <td>9230_01</td>\n",
       "      <td>Europa</td>\n",
       "      <td>False</td>\n",
       "      <td>C/342/S</td>\n",
       "      <td>TRAPPIST-1e</td>\n",
       "      <td>36.0</td>\n",
       "      <td>True</td>\n",
       "      <td>0.0</td>\n",
       "      <td>5600.0</td>\n",
       "      <td>715.0</td>\n",
       "      <td>2868.0</td>\n",
       "      <td>971.0</td>\n",
       "      <td>NaN</td>\n",
       "      <td>True</td>\n",
       "    </tr>\n",
       "    <tr>\n",
       "      <th>8664</th>\n",
       "      <td>9246_01</td>\n",
       "      <td>Earth</td>\n",
       "      <td>NaN</td>\n",
       "      <td>G/1490/S</td>\n",
       "      <td>TRAPPIST-1e</td>\n",
       "      <td>32.0</td>\n",
       "      <td>False</td>\n",
       "      <td>0.0</td>\n",
       "      <td>0.0</td>\n",
       "      <td>0.0</td>\n",
       "      <td>0.0</td>\n",
       "      <td>0.0</td>\n",
       "      <td>NaN</td>\n",
       "      <td>True</td>\n",
       "    </tr>\n",
       "  </tbody>\n",
       "</table>\n",
       "<p>200 rows × 14 columns</p>\n",
       "</div>"
      ],
      "text/plain": [
       "     PassengerId HomePlanet CryoSleep     Cabin  Destination   Age    VIP  \\\n",
       "27       0022_01       Mars     False     D/0/P  TRAPPIST-1e  21.0  False   \n",
       "58       0064_01       Mars      True    F/14/S  TRAPPIST-1e  15.0  False   \n",
       "65       0069_01      Earth     False    F/16/S  TRAPPIST-1e  42.0  False   \n",
       "77       0082_03       Mars     False    F/16/P  TRAPPIST-1e   8.0  False   \n",
       "101      0108_02      Earth     False    G/19/S  TRAPPIST-1e  31.0  False   \n",
       "...          ...        ...       ...       ...          ...   ...    ...   \n",
       "8629     9205_02     Europa      True   B/300/P  TRAPPIST-1e  15.0  False   \n",
       "8631     9208_01      Earth      True  G/1485/S  TRAPPIST-1e  35.0  False   \n",
       "8636     9218_01     Europa      True   B/353/S  55 Cancri e  43.0  False   \n",
       "8652     9230_01     Europa     False   C/342/S  TRAPPIST-1e  36.0   True   \n",
       "8664     9246_01      Earth       NaN  G/1490/S  TRAPPIST-1e  32.0  False   \n",
       "\n",
       "      RoomService  FoodCourt  ShoppingMall     Spa  VRDeck Name  Transported  \n",
       "27          980.0        2.0          69.0     0.0     0.0  NaN        False  \n",
       "58            0.0        0.0           0.0     0.0     0.0  NaN         True  \n",
       "65          887.0        0.0           9.0     6.0     0.0  NaN         True  \n",
       "77            0.0        0.0           0.0     0.0     0.0  NaN         True  \n",
       "101         562.0        0.0         326.0     0.0     0.0  NaN        False  \n",
       "...           ...        ...           ...     ...     ...  ...          ...  \n",
       "8629          0.0        0.0           0.0     0.0     0.0  NaN         True  \n",
       "8631          0.0        0.0           0.0     0.0     0.0  NaN         True  \n",
       "8636          0.0        0.0           0.0     0.0     0.0  NaN         True  \n",
       "8652          0.0     5600.0         715.0  2868.0   971.0  NaN         True  \n",
       "8664          0.0        0.0           0.0     0.0     0.0  NaN         True  \n",
       "\n",
       "[200 rows x 14 columns]"
      ]
     },
     "execution_count": 10,
     "metadata": {},
     "output_type": "execute_result"
    }
   ],
   "source": [
    "df_train[df_train.Name.isnull()]"
   ]
  },
  {
   "cell_type": "code",
   "execution_count": 11,
   "id": "10d561c4",
   "metadata": {
    "execution": {
     "iopub.execute_input": "2023-01-09T16:17:24.115114Z",
     "iopub.status.busy": "2023-01-09T16:17:24.114642Z",
     "iopub.status.idle": "2023-01-09T16:17:25.166497Z",
     "shell.execute_reply": "2023-01-09T16:17:25.165382Z"
    },
    "papermill": {
     "duration": 1.066699,
     "end_time": "2023-01-09T16:17:25.169197",
     "exception": false,
     "start_time": "2023-01-09T16:17:24.102498",
     "status": "completed"
    },
    "tags": []
   },
   "outputs": [
    {
     "name": "stderr",
     "output_type": "stream",
     "text": [
      "/opt/conda/lib/python3.7/site-packages/seaborn/_decorators.py:43: FutureWarning: Pass the following variables as keyword args: x, y. From version 0.12, the only valid positional argument will be `data`, and passing other arguments without an explicit keyword will result in an error or misinterpretation.\n",
      "  FutureWarning\n",
      "/opt/conda/lib/python3.7/site-packages/seaborn/_decorators.py:43: FutureWarning: Pass the following variables as keyword args: x, y. From version 0.12, the only valid positional argument will be `data`, and passing other arguments without an explicit keyword will result in an error or misinterpretation.\n",
      "  FutureWarning\n",
      "/opt/conda/lib/python3.7/site-packages/seaborn/_decorators.py:43: FutureWarning: Pass the following variables as keyword args: x, y. From version 0.12, the only valid positional argument will be `data`, and passing other arguments without an explicit keyword will result in an error or misinterpretation.\n",
      "  FutureWarning\n",
      "/opt/conda/lib/python3.7/site-packages/seaborn/_decorators.py:43: FutureWarning: Pass the following variables as keyword args: x, y. From version 0.12, the only valid positional argument will be `data`, and passing other arguments without an explicit keyword will result in an error or misinterpretation.\n",
      "  FutureWarning\n"
     ]
    },
    {
     "data": {
      "image/png": "[encoded data removed]",
      "text/plain": [
       "<Figure size 1440x360 with 4 Axes>"
      ]
     },
     "metadata": {
      "needs_background": "light"
     },
     "output_type": "display_data"
    }
   ],
   "source": [
    "fig, axs = plt.subplots(1, 4, figsize=(20, 5))\n",
    "for n, ax in enumerate(axs.flatten()):\n",
    "    nan_rows = df_train[df_train.isnull().sum(axis=1) > n].isnull().sum(axis=0)\n",
    "    sns.barplot(nan_rows.index, nan_rows.values, ax=ax)\n",
    "    plt.title('number of rows with missing data ')\n",
    "    ax.set_xticklabels(nan_rows.index, rotation=90)\n",
    "    ax.set_ylim([0, 225])\n",
    "fig.tight_layout()"
   ]
  },
  {
   "cell_type": "code",
   "execution_count": 12,
   "id": "d2444fda",
   "metadata": {
    "execution": {
     "iopub.execute_input": "2023-01-09T16:17:25.193840Z",
     "iopub.status.busy": "2023-01-09T16:17:25.192895Z",
     "iopub.status.idle": "2023-01-09T16:17:25.199992Z",
     "shell.execute_reply": "2023-01-09T16:17:25.198762Z"
    },
    "papermill": {
     "duration": 0.021977,
     "end_time": "2023-01-09T16:17:25.202388",
     "exception": false,
     "start_time": "2023-01-09T16:17:25.180411",
     "status": "completed"
    },
    "tags": []
   },
   "outputs": [],
   "source": [
    "def break_down(df):\n",
    "    X = df.copy()\n",
    "    X['GroupId'] = X.PassengerId.str.split(\"_\", expand=True)[0]\n",
    "    X[['Deck', 'CabinNum', 'Side']] = X.Cabin.str.split(\"/\", expand=True)\n",
    "    return X"
   ]
  },
  {
   "cell_type": "code",
   "execution_count": 13,
   "id": "481bba7e",
   "metadata": {
    "execution": {
     "iopub.execute_input": "2023-01-09T16:17:25.225917Z",
     "iopub.status.busy": "2023-01-09T16:17:25.225456Z",
     "iopub.status.idle": "2023-01-09T16:17:25.379872Z",
     "shell.execute_reply": "2023-01-09T16:17:25.378530Z"
    },
    "papermill": {
     "duration": 0.16927,
     "end_time": "2023-01-09T16:17:25.382688",
     "exception": false,
     "start_time": "2023-01-09T16:17:25.213418",
     "status": "completed"
    },
    "tags": []
   },
   "outputs": [
    {
     "name": "stderr",
     "output_type": "stream",
     "text": [
      "/opt/conda/lib/python3.7/site-packages/seaborn/_decorators.py:43: FutureWarning: Pass the following variable as a keyword arg: x. From version 0.12, the only valid positional argument will be `data`, and passing other arguments without an explicit keyword will result in an error or misinterpretation.\n",
      "  FutureWarning\n"
     ]
    },
    {
     "data": {
      "text/plain": [
       "<AxesSubplot:xlabel='Side', ylabel='count'>"
      ]
     },
     "execution_count": 13,
     "metadata": {},
     "output_type": "execute_result"
    },
    {
     "data": {
      "image/png": "[encoded data removed]",
      "text/plain": [
       "<Figure size 432x288 with 1 Axes>"
      ]
     },
     "metadata": {
      "needs_background": "light"
     },
     "output_type": "display_data"
    }
   ],
   "source": [
    "sides=break_down(df_train).Side\n",
    "sns.countplot(sides)"
   ]
  },
  {
   "cell_type": "code",
   "execution_count": 14,
   "id": "0bcb8bbc",
   "metadata": {
    "execution": {
     "iopub.execute_input": "2023-01-09T16:17:25.408105Z",
     "iopub.status.busy": "2023-01-09T16:17:25.407683Z",
     "iopub.status.idle": "2023-01-09T16:17:25.419316Z",
     "shell.execute_reply": "2023-01-09T16:17:25.418215Z"
    },
    "papermill": {
     "duration": 0.026964,
     "end_time": "2023-01-09T16:17:25.421667",
     "exception": false,
     "start_time": "2023-01-09T16:17:25.394703",
     "status": "completed"
    },
    "tags": []
   },
   "outputs": [
    {
     "data": {
      "text/plain": [
       "82"
      ]
     },
     "execution_count": 14,
     "metadata": {},
     "output_type": "execute_result"
    }
   ],
   "source": [
    "sides[sides=='S'].count() - sides[sides=='P'].count()"
   ]
  },
  {
   "cell_type": "markdown",
   "id": "38a9ba0d",
   "metadata": {
    "papermill": {
     "duration": 0.011696,
     "end_time": "2023-01-09T16:17:25.445986",
     "exception": false,
     "start_time": "2023-01-09T16:17:25.434290",
     "status": "completed"
    },
    "tags": []
   },
   "source": [
    "- No higher than 2.5% of data in any feature is missing.\n",
    "- The missing names gave the impression that there were some missing records (with many missing features). But it does this does not appear to be the case with no passenger missing data in more than 3 features and the missing data being pretty evenly distributed between the features.\n",
    "- With ~200 missing cabin details in our training data and only a 82 person discrepancy between the sides, I did not feel confident to assume that the spaceship was completely symetrical, and even if so, there are too many are missing to know that they would all have been from the lacking side.\n",
    "\n",
    "Therefore\n",
    "- Adding a None category for the missing values in the categorical features (other than the VIP and CryoSleep)\n",
    "- Lack of data implies lack of transaction so imputing zeros into money spent in the various locations appears the best bet.\n",
    "- Lack of info on wether they were VIPs or in suspended animation also implies that they were not so imputing zeros (False) into those.\n",
    "- And then imputing the median age as we don't want a bunch of imaginary newborns to feed the model."
   ]
  },
  {
   "cell_type": "code",
   "execution_count": 15,
   "id": "260e3709",
   "metadata": {
    "execution": {
     "iopub.execute_input": "2023-01-09T16:17:25.471571Z",
     "iopub.status.busy": "2023-01-09T16:17:25.470520Z",
     "iopub.status.idle": "2023-01-09T16:17:25.478442Z",
     "shell.execute_reply": "2023-01-09T16:17:25.477498Z"
    },
    "papermill": {
     "duration": 0.023529,
     "end_time": "2023-01-09T16:17:25.481069",
     "exception": false,
     "start_time": "2023-01-09T16:17:25.457540",
     "status": "completed"
    },
    "tags": []
   },
   "outputs": [],
   "source": [
    "def impute(df):\n",
    "    X = df.copy()\n",
    "    for col in ['FoodCourt', 'Age', 'ShoppingMall', 'VRDeck', 'Spa', 'RoomService']:\n",
    "        X[col] = X[col].fillna(0)\n",
    "    X['Age'] = X['Age'].fillna(df['Age'].median())\n",
    "    for col in ['CryoSleep', 'VIP']:\n",
    "        X[col] = X[col].fillna(False)\n",
    "    for col in ['HomePlanet', 'Cabin', 'Name', 'Destination', 'Deck', 'CabinNum', 'Side']:\n",
    "        X[col] = X[col].fillna(\"None\")\n",
    "    return X"
   ]
  },
  {
   "cell_type": "code",
   "execution_count": 16,
   "id": "1592bd92",
   "metadata": {
    "execution": {
     "iopub.execute_input": "2023-01-09T16:17:25.505775Z",
     "iopub.status.busy": "2023-01-09T16:17:25.505377Z",
     "iopub.status.idle": "2023-01-09T16:17:25.512999Z",
     "shell.execute_reply": "2023-01-09T16:17:25.511747Z"
    },
    "papermill": {
     "duration": 0.023884,
     "end_time": "2023-01-09T16:17:25.516522",
     "exception": false,
     "start_time": "2023-01-09T16:17:25.492638",
     "status": "completed"
    },
    "tags": []
   },
   "outputs": [
    {
     "name": "stdout",
     "output_type": "stream",
     "text": [
      "['Europa' 'Earth' 'Mars' nan]\n",
      "['TRAPPIST-1e' 'PSO J318.5-22' '55 Cancri e' nan]\n"
     ]
    }
   ],
   "source": [
    "print(df_train['HomePlanet'].unique())\n",
    "print(df_train['Destination'].unique())"
   ]
  },
  {
   "cell_type": "code",
   "execution_count": 17,
   "id": "b64f8557",
   "metadata": {
    "execution": {
     "iopub.execute_input": "2023-01-09T16:17:25.542922Z",
     "iopub.status.busy": "2023-01-09T16:17:25.542525Z",
     "iopub.status.idle": "2023-01-09T16:17:25.724478Z",
     "shell.execute_reply": "2023-01-09T16:17:25.722895Z"
    },
    "papermill": {
     "duration": 0.197992,
     "end_time": "2023-01-09T16:17:25.727302",
     "exception": false,
     "start_time": "2023-01-09T16:17:25.529310",
     "status": "completed"
    },
    "tags": []
   },
   "outputs": [
    {
     "data": {
      "text/plain": [
       "array(['B', 'F', 'A', 'G', nan, 'E', 'D', 'C', 'T'], dtype=object)"
      ]
     },
     "execution_count": 17,
     "metadata": {},
     "output_type": "execute_result"
    }
   ],
   "source": [
    "break_down(df_train).Deck.unique()"
   ]
  },
  {
   "cell_type": "code",
   "execution_count": 18,
   "id": "390ce909",
   "metadata": {
    "execution": {
     "iopub.execute_input": "2023-01-09T16:17:25.754332Z",
     "iopub.status.busy": "2023-01-09T16:17:25.753898Z",
     "iopub.status.idle": "2023-01-09T16:17:25.765400Z",
     "shell.execute_reply": "2023-01-09T16:17:25.764040Z"
    },
    "papermill": {
     "duration": 0.028207,
     "end_time": "2023-01-09T16:17:25.768085",
     "exception": false,
     "start_time": "2023-01-09T16:17:25.739878",
     "status": "completed"
    },
    "tags": []
   },
   "outputs": [],
   "source": [
    "def encode(df):\n",
    "    X=df.copy()\n",
    "    # based on the distance from Earth I assume this is the route\n",
    "    X['Destination'] = X['Destination'].map({'PSO J318.5-22': 1, '55 Cancri e': 2, 'TRAPPIST-1e': 3, 'None': 0})\n",
    "    \n",
    "    X['Deck'] = X['Deck'].map({'A':1, 'B':2, 'C':3, 'D':4, 'E':5, 'F':6, 'G':7, 'T':8, 'None':0})\n",
    "    \n",
    "    X['GroupId'] = X['GroupId'].astype(int)\n",
    "    \n",
    "    # since there arn't many too many features let's one-hot encode the Home Planet\n",
    "    OH_encoder = OneHotEncoder(handle_unknown='ignore', sparse=False)\n",
    "    OH_cols = pd.DataFrame(OH_encoder.fit_transform(X['HomePlanet'].values.reshape(-1,1)))\n",
    "\n",
    "    # One-hot encoding removed index, so putting it back\n",
    "    OH_cols.index = X.index\n",
    "    \n",
    "    # Naming the new columns based on the old feature and their value\n",
    "    OH_cols.columns = OH_encoder.get_feature_names(['HomePlanet'])\n",
    "\n",
    "    # Remove categorical columns no longer needed\n",
    "    other_X = X.drop('HomePlanet', axis=1)\n",
    "\n",
    "    # Add one-hot encoded columns to the rest of the features\n",
    "    X = pd.concat([other_X, OH_cols], axis=1)\n",
    "    \n",
    "    # Ordinal Encode the Rest\n",
    "    To_Encode = ['Cabin', 'CabinNum', 'Name', 'Side']\n",
    "    ordinal_encoder = OrdinalEncoder()\n",
    "    X[To_Encode] = ordinal_encoder.fit_transform(X[To_Encode])\n",
    "    \n",
    "    X['Transported'] = X['Transported'].astype(bool)\n",
    "\n",
    "    return X"
   ]
  },
  {
   "cell_type": "code",
   "execution_count": 19,
   "id": "a6ee8293",
   "metadata": {
    "execution": {
     "iopub.execute_input": "2023-01-09T16:17:25.794021Z",
     "iopub.status.busy": "2023-01-09T16:17:25.793169Z",
     "iopub.status.idle": "2023-01-09T16:17:25.801345Z",
     "shell.execute_reply": "2023-01-09T16:17:25.799998Z"
    },
    "papermill": {
     "duration": 0.024273,
     "end_time": "2023-01-09T16:17:25.804069",
     "exception": false,
     "start_time": "2023-01-09T16:17:25.779796",
     "status": "completed"
    },
    "tags": []
   },
   "outputs": [],
   "source": [
    "def load_data():\n",
    "    df_train = pd.read_csv(\"/kaggle/input/spaceship-titanic/train.csv\")\n",
    "    df_test = pd.read_csv(\"/kaggle/input/spaceship-titanic/test.csv\")\n",
    "    \n",
    "    # Merge to process together\n",
    "    df = pd.concat([df_train, df_test], keys=['train','test'])\n",
    "    \n",
    "    # Preprocessing\n",
    "    df = break_down(df)\n",
    "    df = impute(df)\n",
    "    df = encode(df)\n",
    "    \n",
    "    # Reform splits\n",
    "    df_train = df.loc['train']\n",
    "    df_train.set_index('PassengerId', inplace=True)\n",
    "    df_test = df.loc['test']\n",
    "    df_test.set_index('PassengerId', inplace=True)\n",
    "    return df_train, df_test"
   ]
  },
  {
   "cell_type": "code",
   "execution_count": 20,
   "id": "a758d7f9",
   "metadata": {
    "execution": {
     "iopub.execute_input": "2023-01-09T16:17:25.831524Z",
     "iopub.status.busy": "2023-01-09T16:17:25.830649Z",
     "iopub.status.idle": "2023-01-09T16:17:25.837040Z",
     "shell.execute_reply": "2023-01-09T16:17:25.835711Z"
    },
    "papermill": {
     "duration": 0.023666,
     "end_time": "2023-01-09T16:17:25.839565",
     "exception": false,
     "start_time": "2023-01-09T16:17:25.815899",
     "status": "completed"
    },
    "tags": []
   },
   "outputs": [],
   "source": [
    "def score_dataset(X, y, clf = XGBClassifier(), n=5):\n",
    "    scores = cross_val_score(clf, X, y, cv=n)\n",
    "    score = scores.mean()\n",
    "    return score"
   ]
  },
  {
   "cell_type": "code",
   "execution_count": 21,
   "id": "565db569",
   "metadata": {
    "execution": {
     "iopub.execute_input": "2023-01-09T16:17:25.864921Z",
     "iopub.status.busy": "2023-01-09T16:17:25.864509Z",
     "iopub.status.idle": "2023-01-09T16:17:30.950497Z",
     "shell.execute_reply": "2023-01-09T16:17:30.949115Z"
    },
    "papermill": {
     "duration": 5.102955,
     "end_time": "2023-01-09T16:17:30.954282",
     "exception": false,
     "start_time": "2023-01-09T16:17:25.851327",
     "status": "completed"
    },
    "tags": []
   },
   "outputs": [
    {
     "name": "stderr",
     "output_type": "stream",
     "text": [
      "/opt/conda/lib/python3.7/site-packages/sklearn/utils/deprecation.py:87: FutureWarning: Function get_feature_names is deprecated; get_feature_names is deprecated in 1.0 and will be removed in 1.2. Please use get_feature_names_out instead.\n",
      "  warnings.warn(msg, category=FutureWarning)\n"
     ]
    },
    {
     "name": "stdout",
     "output_type": "stream",
     "text": [
      "Baseline score: 0.6471984679633481\n"
     ]
    }
   ],
   "source": [
    "df_train_processed , _ = load_data()\n",
    "df_for_baseline = df_train_processed.copy()\n",
    "y = df_for_baseline.pop('Transported')\n",
    "\n",
    "baseline_score = score_dataset(df_for_baseline, y)\n",
    "print(f\"Baseline score: {baseline_score}\")"
   ]
  },
  {
   "cell_type": "code",
   "execution_count": 22,
   "id": "1e70d79d",
   "metadata": {
    "execution": {
     "iopub.execute_input": "2023-01-09T16:17:30.981335Z",
     "iopub.status.busy": "2023-01-09T16:17:30.980903Z",
     "iopub.status.idle": "2023-01-09T16:17:30.989431Z",
     "shell.execute_reply": "2023-01-09T16:17:30.988160Z"
    },
    "papermill": {
     "duration": 0.023871,
     "end_time": "2023-01-09T16:17:30.991876",
     "exception": false,
     "start_time": "2023-01-09T16:17:30.968005",
     "status": "completed"
    },
    "tags": []
   },
   "outputs": [],
   "source": [
    "def make_mi_scores(X, y):\n",
    "    mi_scores = mutual_info_regression(X, y)\n",
    "    mi_scores = pd.Series(mi_scores, name=\"MI Scores\", index=X.columns)\n",
    "    mi_scores = mi_scores.sort_values(ascending=False)\n",
    "    return mi_scores\n",
    "\n",
    "def plot_mi_scores(scores, size=(20,15)):\n",
    "    scores = scores.sort_values(ascending=True)\n",
    "    width = np.arange(len(scores))\n",
    "    ticks = list(scores.index)\n",
    "    plt.figure(figsize=size)\n",
    "    plt.barh(width, scores)\n",
    "    plt.yticks(width, ticks)\n",
    "    plt.title(\"Mutual Information Scores\")"
   ]
  },
  {
   "cell_type": "code",
   "execution_count": 23,
   "id": "485ba782",
   "metadata": {
    "execution": {
     "iopub.execute_input": "2023-01-09T16:17:31.017708Z",
     "iopub.status.busy": "2023-01-09T16:17:31.016879Z",
     "iopub.status.idle": "2023-01-09T16:17:33.451897Z",
     "shell.execute_reply": "2023-01-09T16:17:33.450721Z"
    },
    "papermill": {
     "duration": 2.450345,
     "end_time": "2023-01-09T16:17:33.454223",
     "exception": false,
     "start_time": "2023-01-09T16:17:31.003878",
     "status": "completed"
    },
    "tags": []
   },
   "outputs": [
    {
     "data": {
      "text/plain": [
       "CryoSleep            0.119235\n",
       "RoomService          0.071797\n",
       "Spa                  0.058763\n",
       "ShoppingMall         0.057917\n",
       "VRDeck               0.054804\n",
       "FoodCourt            0.035875\n",
       "Name                 0.029366\n",
       "Cabin                0.028438\n",
       "Deck                 0.026260\n",
       "CabinNum             0.022885\n",
       "GroupId              0.022187\n",
       "Age                  0.010918\n",
       "HomePlanet_Earth     0.010616\n",
       "Destination          0.008214\n",
       "Side                 0.002362\n",
       "VIP                  0.001486\n",
       "HomePlanet_None      0.001176\n",
       "HomePlanet_Europa    0.000000\n",
       "HomePlanet_Mars      0.000000\n",
       "Name: MI Scores, dtype: float64"
      ]
     },
     "execution_count": 23,
     "metadata": {},
     "output_type": "execute_result"
    },
    {
     "data": {
      "image/png": "[encoded data removed]",
      "text/plain": [
       "<Figure size 1440x1080 with 1 Axes>"
      ]
     },
     "metadata": {
      "needs_background": "light"
     },
     "output_type": "display_data"
    }
   ],
   "source": [
    "plot_mi_scores(make_mi_scores(df_for_baseline,y))\n",
    "\n",
    "make_mi_scores(df_for_baseline,y)"
   ]
  },
  {
   "cell_type": "code",
   "execution_count": 24,
   "id": "38ae6c40",
   "metadata": {
    "execution": {
     "iopub.execute_input": "2023-01-09T16:17:33.482346Z",
     "iopub.status.busy": "2023-01-09T16:17:33.480998Z",
     "iopub.status.idle": "2023-01-09T16:17:37.073510Z",
     "shell.execute_reply": "2023-01-09T16:17:37.072263Z"
    },
    "papermill": {
     "duration": 3.608963,
     "end_time": "2023-01-09T16:17:37.075865",
     "exception": false,
     "start_time": "2023-01-09T16:17:33.466902",
     "status": "completed"
    },
    "tags": []
   },
   "outputs": [
    {
     "data": {
      "image/png": "[encoded data removed]",
      "text/plain": [
       "<Figure size 430.875x360 with 1 Axes>"
      ]
     },
     "metadata": {
      "needs_background": "light"
     },
     "output_type": "display_data"
    },
    {
     "data": {
      "text/plain": [
       "<Figure size 432x288 with 0 Axes>"
      ]
     },
     "metadata": {},
     "output_type": "display_data"
    },
    {
     "data": {
      "image/png": "[encoded data removed]",
      "text/plain": [
       "<Figure size 402.375x360 with 1 Axes>"
      ]
     },
     "metadata": {
      "needs_background": "light"
     },
     "output_type": "display_data"
    },
    {
     "data": {
      "text/plain": [
       "<Figure size 432x288 with 0 Axes>"
      ]
     },
     "metadata": {},
     "output_type": "display_data"
    }
   ],
   "source": [
    "sns.lmplot(x=\"Spa\", y=\"Transported\", hue=\"HomePlanet\", data=df_train)\n",
    "plt.show()\n",
    "plt.clf()\n",
    "\n",
    "sns.lmplot(x=\"VRDeck\", y=\"Transported\", hue=\"Deck\", data=df_train_processed)\n",
    "plt.show()\n",
    "plt.clf()"
   ]
  },
  {
   "cell_type": "markdown",
   "id": "1c3bf9ad",
   "metadata": {
    "papermill": {
     "duration": 0.013982,
     "end_time": "2023-01-09T16:17:37.104036",
     "exception": false,
     "start_time": "2023-01-09T16:17:37.090054",
     "status": "completed"
    },
    "tags": []
   },
   "source": [
    "People from Europa spent more a the Spa etc but no obvious interaction effects stick out. I have left a couple of examples of unhelpful exploration."
   ]
  },
  {
   "cell_type": "code",
   "execution_count": 25,
   "id": "5c3d449f",
   "metadata": {
    "execution": {
     "iopub.execute_input": "2023-01-09T16:17:37.135333Z",
     "iopub.status.busy": "2023-01-09T16:17:37.134364Z",
     "iopub.status.idle": "2023-01-09T16:17:37.439622Z",
     "shell.execute_reply": "2023-01-09T16:17:37.438694Z"
    },
    "papermill": {
     "duration": 0.323167,
     "end_time": "2023-01-09T16:17:37.442069",
     "exception": false,
     "start_time": "2023-01-09T16:17:37.118902",
     "status": "completed"
    },
    "tags": []
   },
   "outputs": [
    {
     "name": "stderr",
     "output_type": "stream",
     "text": [
      "/opt/conda/lib/python3.7/site-packages/seaborn/_decorators.py:43: FutureWarning: Pass the following variable as a keyword arg: x. From version 0.12, the only valid positional argument will be `data`, and passing other arguments without an explicit keyword will result in an error or misinterpretation.\n",
      "  FutureWarning\n"
     ]
    },
    {
     "data": {
      "text/plain": [
       "<AxesSubplot:xlabel='Size_of_group', ylabel='count'>"
      ]
     },
     "execution_count": 25,
     "metadata": {},
     "output_type": "execute_result"
    },
    {
     "data": {
      "image/png": "[encoded data removed]",
      "text/plain": [
       "<Figure size 432x288 with 1 Axes>"
      ]
     },
     "metadata": {
      "needs_background": "light"
     },
     "output_type": "display_data"
    }
   ],
   "source": [
    "df_train_processed['Size_of_group'] = df_train_processed.groupby(['GroupId'])['GroupId'].transform('count')\n",
    "\n",
    "sns.countplot(df_train_processed['Size_of_group'], hue=df_train_processed['Transported'])"
   ]
  },
  {
   "cell_type": "code",
   "execution_count": 26,
   "id": "b9cba133",
   "metadata": {
    "execution": {
     "iopub.execute_input": "2023-01-09T16:17:37.473264Z",
     "iopub.status.busy": "2023-01-09T16:17:37.472223Z",
     "iopub.status.idle": "2023-01-09T16:17:38.001658Z",
     "shell.execute_reply": "2023-01-09T16:17:38.000591Z"
    },
    "papermill": {
     "duration": 0.547759,
     "end_time": "2023-01-09T16:17:38.004190",
     "exception": false,
     "start_time": "2023-01-09T16:17:37.456431",
     "status": "completed"
    },
    "tags": []
   },
   "outputs": [
    {
     "name": "stderr",
     "output_type": "stream",
     "text": [
      "/opt/conda/lib/python3.7/site-packages/seaborn/_decorators.py:43: FutureWarning: Pass the following variables as keyword args: x, y. From version 0.12, the only valid positional argument will be `data`, and passing other arguments without an explicit keyword will result in an error or misinterpretation.\n",
      "  FutureWarning\n"
     ]
    },
    {
     "data": {
      "text/plain": [
       "<AxesSubplot:xlabel='Size_of_group', ylabel='prop_transported_by_group_size'>"
      ]
     },
     "execution_count": 26,
     "metadata": {},
     "output_type": "execute_result"
    },
    {
     "data": {
      "image/png": "[encoded data removed]",
      "text/plain": [
       "<Figure size 432x288 with 1 Axes>"
      ]
     },
     "metadata": {
      "needs_background": "light"
     },
     "output_type": "display_data"
    }
   ],
   "source": [
    "df_train_processed['prop_transported_by_group_size'] = df_train_processed.groupby(['Size_of_group'])['Transported'].transform('sum')/df_train_processed.groupby(['Size_of_group'])['Size_of_group'].transform('count')\n",
    "sns.barplot(df_train_processed['Size_of_group'], df_train_processed['prop_transported_by_group_size'])"
   ]
  },
  {
   "cell_type": "code",
   "execution_count": 27,
   "id": "6ddcebaf",
   "metadata": {
    "execution": {
     "iopub.execute_input": "2023-01-09T16:17:38.035528Z",
     "iopub.status.busy": "2023-01-09T16:17:38.035087Z",
     "iopub.status.idle": "2023-01-09T16:17:38.042418Z",
     "shell.execute_reply": "2023-01-09T16:17:38.041192Z"
    },
    "papermill": {
     "duration": 0.025913,
     "end_time": "2023-01-09T16:17:38.044906",
     "exception": false,
     "start_time": "2023-01-09T16:17:38.018993",
     "status": "completed"
    },
    "tags": []
   },
   "outputs": [],
   "source": [
    "def group_transforms(df):\n",
    "    df['Size_of_group'] = df.groupby(['GroupId'])['GroupId'].transform('count')\n",
    "    df['prop_transported_by_group_size'] = df.groupby(['Size_of_group'])['Transported'].transform('sum')/df.groupby(['Size_of_group'])['Size_of_group'].transform('count')\n",
    "    df['medium_group'] = (df['Size_of_group'] >1) & (df['Size_of_group'] <8)\n",
    "    return df"
   ]
  },
  {
   "cell_type": "code",
   "execution_count": 28,
   "id": "256d5766",
   "metadata": {
    "execution": {
     "iopub.execute_input": "2023-01-09T16:17:38.076963Z",
     "iopub.status.busy": "2023-01-09T16:17:38.076575Z",
     "iopub.status.idle": "2023-01-09T16:17:38.082877Z",
     "shell.execute_reply": "2023-01-09T16:17:38.081685Z"
    },
    "papermill": {
     "duration": 0.024777,
     "end_time": "2023-01-09T16:17:38.085085",
     "exception": false,
     "start_time": "2023-01-09T16:17:38.060308",
     "status": "completed"
    },
    "tags": []
   },
   "outputs": [],
   "source": [
    "def Totalling(df):\n",
    "    df['Tot_Spend']=df[['RoomService', 'FoodCourt', 'ShoppingMall', 'Spa', 'VRDeck']].gt(0.0).sum(axis=1)\n",
    "    return df"
   ]
  },
  {
   "cell_type": "code",
   "execution_count": 29,
   "id": "9050b2cf",
   "metadata": {
    "execution": {
     "iopub.execute_input": "2023-01-09T16:17:38.116765Z",
     "iopub.status.busy": "2023-01-09T16:17:38.116348Z",
     "iopub.status.idle": "2023-01-09T16:17:38.122062Z",
     "shell.execute_reply": "2023-01-09T16:17:38.120682Z"
    },
    "papermill": {
     "duration": 0.024841,
     "end_time": "2023-01-09T16:17:38.124734",
     "exception": false,
     "start_time": "2023-01-09T16:17:38.099893",
     "status": "completed"
    },
    "tags": []
   },
   "outputs": [],
   "source": [
    "def create_features(df):\n",
    "    X = df.copy()\n",
    "    group_transforms(X)\n",
    "    Totalling(X)\n",
    "    \n",
    "    return X"
   ]
  },
  {
   "cell_type": "code",
   "execution_count": 30,
   "id": "d2c69f13",
   "metadata": {
    "execution": {
     "iopub.execute_input": "2023-01-09T16:17:38.156652Z",
     "iopub.status.busy": "2023-01-09T16:17:38.156232Z",
     "iopub.status.idle": "2023-01-09T16:17:38.169759Z",
     "shell.execute_reply": "2023-01-09T16:17:38.168524Z"
    },
    "papermill": {
     "duration": 0.033701,
     "end_time": "2023-01-09T16:17:38.173447",
     "exception": false,
     "start_time": "2023-01-09T16:17:38.139746",
     "status": "completed"
    },
    "tags": []
   },
   "outputs": [
    {
     "name": "stderr",
     "output_type": "stream",
     "text": [
      "/opt/conda/lib/python3.7/site-packages/xgboost/core.py:571: FutureWarning: Pass `objective` as keyword args.  Passing these as positional arguments will be considered as error in future releases.\n",
      "  format(\", \".join(args_msg)), FutureWarning\n"
     ]
    }
   ],
   "source": [
    "def trial(rem=['VIP', 'RoomService', 'FoodCourt'], clf = XGBClassifier({'max_depth': 6, 'learning_rate': 0.0102657591775899, 'n_estimators': 219, 'subsample': 0.763387008801389, 'gamma': 3.8037093108929487, 'alpha': 0.9994007069133161, 'lambda': 8.96253712351312}), n=5):\n",
    "    df_train = pd.read_csv(\"/kaggle/input/spaceship-titanic/train.csv\")\n",
    "    df_test = pd.read_csv(\"/kaggle/input/spaceship-titanic/test.csv\")\n",
    "    \n",
    "    # Merge to process together\n",
    "    df = pd.concat([df_train, df_test], keys=['train','test'])\n",
    "    \n",
    "    # Preprocessing\n",
    "    df = break_down(df)\n",
    "    df = impute(df)\n",
    "    df = encode(df)\n",
    "    \n",
    "    # Creating additional features\n",
    "    df = create_features(df)\n",
    "    \n",
    "    # Removing some features, based on situational evidence and mutual informaion scores\n",
    "    df = df.drop(rem, axis = 1)\n",
    "    \n",
    "    # Reform splits\n",
    "    df_train = df.loc['train']\n",
    "    df_train.set_index('PassengerId', inplace=True)\n",
    "    df_test = df.loc['test']\n",
    "    df_test.set_index('PassengerId', inplace=True)\n",
    "    \n",
    "    X = df_train.copy()\n",
    "    y = X.pop('Transported')\n",
    "    score = score_dataset(X, y, clf = XGBClassifier(), n=5)\n",
    "    print(f'using {clf} with {n} folds')\n",
    "    print(f\"Score: {score}\") \n",
    "    return score, X, df_train"
   ]
  },
  {
   "cell_type": "code",
   "execution_count": 31,
   "id": "8ee316cf",
   "metadata": {
    "execution": {
     "iopub.execute_input": "2023-01-09T16:17:38.207435Z",
     "iopub.status.busy": "2023-01-09T16:17:38.207005Z",
     "iopub.status.idle": "2023-01-09T16:17:43.229735Z",
     "shell.execute_reply": "2023-01-09T16:17:43.227684Z"
    },
    "papermill": {
     "duration": 5.044046,
     "end_time": "2023-01-09T16:17:43.233423",
     "exception": false,
     "start_time": "2023-01-09T16:17:38.189377",
     "status": "completed"
    },
    "tags": []
   },
   "outputs": [
    {
     "name": "stderr",
     "output_type": "stream",
     "text": [
      "/opt/conda/lib/python3.7/site-packages/sklearn/utils/deprecation.py:87: FutureWarning: Function get_feature_names is deprecated; get_feature_names is deprecated in 1.0 and will be removed in 1.2. Please use get_feature_names_out instead.\n",
      "  warnings.warn(msg, category=FutureWarning)\n"
     ]
    },
    {
     "name": "stdout",
     "output_type": "stream",
     "text": [
      "using XGBClassifier(base_score=None, booster=None, callbacks=None,\n",
      "              colsample_bylevel=None, colsample_bynode=None,\n",
      "              colsample_bytree=None, early_stopping_rounds=None,\n",
      "              enable_categorical=False, eval_metric=None, gamma=None,\n",
      "              gpu_id=None, grow_policy=None, importance_type=None,\n",
      "              interaction_constraints=None, learning_rate=None, max_bin=None,\n",
      "              max_cat_to_onehot=None, max_delta_s...\n",
      "              max_leaves=None, min_child_weight=None, missing=nan,\n",
      "              monotone_constraints=None, n_estimators=100, n_jobs=None,\n",
      "              num_parallel_tree=None,\n",
      "              objective={'alpha': 0.9994007069133161,\n",
      "                         'gamma': 3.8037093108929487,\n",
      "                         'lambda': 8.96253712351312,\n",
      "                         'learning_rate': 0.0102657591775899, 'max_depth': 6,\n",
      "                         'n_estimators': 219, 'subsample': 0.763387008801389},\n",
      "              predictor=None, random_state=None, reg_alpha=None, ...) with 5 folds\n",
      "Score: 0.626833934294209\n"
     ]
    }
   ],
   "source": [
    "_ , X , df_feature_engineered = trial()"
   ]
  },
  {
   "cell_type": "code",
   "execution_count": 32,
   "id": "2e99f086",
   "metadata": {
    "execution": {
     "iopub.execute_input": "2023-01-09T16:17:43.266922Z",
     "iopub.status.busy": "2023-01-09T16:17:43.266501Z",
     "iopub.status.idle": "2023-01-09T16:17:59.542515Z",
     "shell.execute_reply": "2023-01-09T16:17:59.541370Z"
    },
    "papermill": {
     "duration": 16.295982,
     "end_time": "2023-01-09T16:17:59.545450",
     "exception": false,
     "start_time": "2023-01-09T16:17:43.249468",
     "status": "completed"
    },
    "tags": []
   },
   "outputs": [
    {
     "name": "stderr",
     "output_type": "stream",
     "text": [
      "/opt/conda/lib/python3.7/site-packages/sklearn/utils/deprecation.py:87: FutureWarning: Function get_feature_names is deprecated; get_feature_names is deprecated in 1.0 and will be removed in 1.2. Please use get_feature_names_out instead.\n",
      "  warnings.warn(msg, category=FutureWarning)\n"
     ]
    },
    {
     "name": "stdout",
     "output_type": "stream",
     "text": [
      "using XGBClassifier(base_score=None, booster=None, callbacks=None,\n",
      "              colsample_bylevel=None, colsample_bynode=None,\n",
      "              colsample_bytree=None, early_stopping_rounds=None,\n",
      "              enable_categorical=False, eval_metric=None, gamma=None,\n",
      "              gpu_id=None, grow_policy=None, importance_type=None,\n",
      "              interaction_constraints=None, learning_rate=None, max_bin=None,\n",
      "              max_cat_to_onehot=None, max_delta_s...\n",
      "              max_leaves=None, min_child_weight=None, missing=nan,\n",
      "              monotone_constraints=None, n_estimators=100, n_jobs=None,\n",
      "              num_parallel_tree=None,\n",
      "              objective={'alpha': 0.9994007069133161,\n",
      "                         'gamma': 3.8037093108929487,\n",
      "                         'lambda': 8.96253712351312,\n",
      "                         'learning_rate': 0.0102657591775899, 'max_depth': 6,\n",
      "                         'n_estimators': 219, 'subsample': 0.763387008801389},\n",
      "              predictor=None, random_state=None, reg_alpha=None, ...) with 5 folds\n",
      "Score: 0.6558234531571456\n"
     ]
    },
    {
     "name": "stderr",
     "output_type": "stream",
     "text": [
      "/opt/conda/lib/python3.7/site-packages/sklearn/utils/deprecation.py:87: FutureWarning: Function get_feature_names is deprecated; get_feature_names is deprecated in 1.0 and will be removed in 1.2. Please use get_feature_names_out instead.\n",
      "  warnings.warn(msg, category=FutureWarning)\n"
     ]
    },
    {
     "name": "stdout",
     "output_type": "stream",
     "text": [
      "using XGBClassifier(base_score=None, booster=None, callbacks=None,\n",
      "              colsample_bylevel=None, colsample_bynode=None,\n",
      "              colsample_bytree=None, early_stopping_rounds=None,\n",
      "              enable_categorical=False, eval_metric=None, gamma=None,\n",
      "              gpu_id=None, grow_policy=None, importance_type=None,\n",
      "              interaction_constraints=None, learning_rate=None, max_bin=None,\n",
      "              max_cat_to_onehot=None, max_delta_s...\n",
      "              max_leaves=None, min_child_weight=None, missing=nan,\n",
      "              monotone_constraints=None, n_estimators=100, n_jobs=None,\n",
      "              num_parallel_tree=None,\n",
      "              objective={'alpha': 0.9994007069133161,\n",
      "                         'gamma': 3.8037093108929487,\n",
      "                         'lambda': 8.96253712351312,\n",
      "                         'learning_rate': 0.0102657591775899, 'max_depth': 6,\n",
      "                         'n_estimators': 219, 'subsample': 0.763387008801389},\n",
      "              predictor=None, random_state=None, reg_alpha=None, ...) with 5 folds\n",
      "Score: 0.6599618446642416\n"
     ]
    },
    {
     "name": "stderr",
     "output_type": "stream",
     "text": [
      "/opt/conda/lib/python3.7/site-packages/sklearn/utils/deprecation.py:87: FutureWarning: Function get_feature_names is deprecated; get_feature_names is deprecated in 1.0 and will be removed in 1.2. Please use get_feature_names_out instead.\n",
      "  warnings.warn(msg, category=FutureWarning)\n"
     ]
    },
    {
     "name": "stdout",
     "output_type": "stream",
     "text": [
      "using XGBClassifier(base_score=None, booster=None, callbacks=None,\n",
      "              colsample_bylevel=None, colsample_bynode=None,\n",
      "              colsample_bytree=None, early_stopping_rounds=None,\n",
      "              enable_categorical=False, eval_metric=None, gamma=None,\n",
      "              gpu_id=None, grow_policy=None, importance_type=None,\n",
      "              interaction_constraints=None, learning_rate=None, max_bin=None,\n",
      "              max_cat_to_onehot=None, max_delta_s...\n",
      "              max_leaves=None, min_child_weight=None, missing=nan,\n",
      "              monotone_constraints=None, n_estimators=100, n_jobs=None,\n",
      "              num_parallel_tree=None,\n",
      "              objective={'alpha': 0.9994007069133161,\n",
      "                         'gamma': 3.8037093108929487,\n",
      "                         'lambda': 8.96253712351312,\n",
      "                         'learning_rate': 0.0102657591775899, 'max_depth': 6,\n",
      "                         'n_estimators': 219, 'subsample': 0.763387008801389},\n",
      "              predictor=None, random_state=None, reg_alpha=None, ...) with 5 folds\n",
      "Score: 0.6605402626140574\n"
     ]
    },
    {
     "data": {
      "image/png": "[encoded data removed]",
      "text/plain": [
       "<Figure size 432x288 with 1 Axes>"
      ]
     },
     "metadata": {
      "needs_background": "light"
     },
     "output_type": "display_data"
    }
   ],
   "source": [
    "rem=['VIP', 'RoomService', 'FoodCourt']\n",
    "scores = []\n",
    "for i in range(len(rem)):\n",
    "    score , _ , _ = trial(rem=rem[:i])\n",
    "    scores.append(score)\n",
    "    \n",
    "plt.plot(range(len(scores)), scores)\n",
    "plt.xticks(range(len(scores)))\n",
    "plt.show() "
   ]
  },
  {
   "cell_type": "markdown",
   "id": "8d3cc882",
   "metadata": {
    "papermill": {
     "duration": 0.016411,
     "end_time": "2023-01-09T16:17:59.580411",
     "exception": false,
     "start_time": "2023-01-09T16:17:59.564000",
     "status": "completed"
    },
    "tags": []
   },
   "source": [
    "# And some Optuna tuned hyperparameters added in to improve those predicitions."
   ]
  },
  {
   "cell_type": "code",
   "execution_count": 33,
   "id": "9d536858",
   "metadata": {
    "execution": {
     "iopub.execute_input": "2023-01-09T16:17:59.614064Z",
     "iopub.status.busy": "2023-01-09T16:17:59.613550Z",
     "iopub.status.idle": "2023-01-09T16:17:59.619509Z",
     "shell.execute_reply": "2023-01-09T16:17:59.618124Z"
    },
    "papermill": {
     "duration": 0.025812,
     "end_time": "2023-01-09T16:17:59.621912",
     "exception": false,
     "start_time": "2023-01-09T16:17:59.596100",
     "status": "completed"
    },
    "tags": []
   },
   "outputs": [],
   "source": [
    "xgb_hyper_params = {'max_depth': 6, 'learning_rate': 0.0102657591775899, 'n_estimators': 219, 'subsample': 0.763387008801389, 'gamma': 3.8037093108929487, 'alpha': 0.9994007069133161, 'reg_lambda': 8.96253712351312}"
   ]
  },
  {
   "cell_type": "code",
   "execution_count": 34,
   "id": "83cd6ef5",
   "metadata": {
    "execution": {
     "iopub.execute_input": "2023-01-09T16:17:59.655285Z",
     "iopub.status.busy": "2023-01-09T16:17:59.654845Z",
     "iopub.status.idle": "2023-01-09T16:17:59.666169Z",
     "shell.execute_reply": "2023-01-09T16:17:59.664782Z"
    },
    "papermill": {
     "duration": 0.031421,
     "end_time": "2023-01-09T16:17:59.668854",
     "exception": false,
     "start_time": "2023-01-09T16:17:59.637433",
     "status": "completed"
    },
    "tags": []
   },
   "outputs": [],
   "source": [
    "def final(rem=['VIP', 'RoomService', 'FoodCourt']):\n",
    "    df_train = pd.read_csv(\"/kaggle/input/spaceship-titanic/train.csv\")\n",
    "    df_test = pd.read_csv(\"/kaggle/input/spaceship-titanic/test.csv\")\n",
    "    \n",
    "    # Merge to process together\n",
    "    df = pd.concat([df_train, df_test], keys=['train','test'])\n",
    "    \n",
    "    # Preprocessing\n",
    "    df = break_down(df)\n",
    "    df = impute(df)\n",
    "    df = encode(df)\n",
    "    \n",
    "    # Creating additional features\n",
    "    df = create_features(df)\n",
    "    \n",
    "    # Removing some features, based on situational evidence and mutual informaion scores\n",
    "    df = df.drop(rem, axis = 1)\n",
    "    \n",
    "    # Reform splits\n",
    "    df_train = df.loc['train']\n",
    "    df_train.set_index('PassengerId', inplace=True)\n",
    "    df_test = df.loc['test']\n",
    "    df_test.set_index('PassengerId', inplace=True)\n",
    "    \n",
    "    X = df_train.copy()\n",
    "    y = X.pop('Transported')\n",
    "    df_test.pop('Transported')\n",
    "    \n",
    "    model=XGBClassifier(max_depth= 6,\n",
    "                        learning_rate= 0.0102657591775899,\n",
    "                        n_estimators= 219,\n",
    "                        subsample= 0.763387008801389,\n",
    "                        gamma= 3.8037093108929487,\n",
    "                        alpha= 0.9994007069133161,\n",
    "                        reg_lambda = 8.96253712351312)\n",
    "    model.fit(X,y)\n",
    "    predictions = model.predict(df_test)\n",
    "    output = pd.DataFrame({'PassengerId': df_test.index, 'Transported': predictions})\n",
    "    output.replace({0:False,1:True},inplace=True)\n",
    "\n",
    "    return output"
   ]
  },
  {
   "cell_type": "code",
   "execution_count": 35,
   "id": "8787b93a",
   "metadata": {
    "execution": {
     "iopub.execute_input": "2023-01-09T16:17:59.702082Z",
     "iopub.status.busy": "2023-01-09T16:17:59.701638Z",
     "iopub.status.idle": "2023-01-09T16:18:02.649113Z",
     "shell.execute_reply": "2023-01-09T16:18:02.648109Z"
    },
    "papermill": {
     "duration": 2.967139,
     "end_time": "2023-01-09T16:18:02.651542",
     "exception": false,
     "start_time": "2023-01-09T16:17:59.684403",
     "status": "completed"
    },
    "tags": []
   },
   "outputs": [
    {
     "name": "stderr",
     "output_type": "stream",
     "text": [
      "/opt/conda/lib/python3.7/site-packages/sklearn/utils/deprecation.py:87: FutureWarning: Function get_feature_names is deprecated; get_feature_names is deprecated in 1.0 and will be removed in 1.2. Please use get_feature_names_out instead.\n",
      "  warnings.warn(msg, category=FutureWarning)\n"
     ]
    },
    {
     "data": {
      "text/html": [
       "<div>\n",
       "<style scoped>\n",
       "    .dataframe tbody tr th:only-of-type {\n",
       "        vertical-align: middle;\n",
       "    }\n",
       "\n",
       "    .dataframe tbody tr th {\n",
       "        vertical-align: top;\n",
       "    }\n",
       "\n",
       "    .dataframe thead th {\n",
       "        text-align: right;\n",
       "    }\n",
       "</style>\n",
       "<table border=\"1\" class=\"dataframe\">\n",
       "  <thead>\n",
       "    <tr style=\"text-align: right;\">\n",
       "      <th></th>\n",
       "      <th>PassengerId</th>\n",
       "      <th>Transported</th>\n",
       "    </tr>\n",
       "  </thead>\n",
       "  <tbody>\n",
       "    <tr>\n",
       "      <th>0</th>\n",
       "      <td>0013_01</td>\n",
       "      <td>True</td>\n",
       "    </tr>\n",
       "    <tr>\n",
       "      <th>1</th>\n",
       "      <td>0018_01</td>\n",
       "      <td>False</td>\n",
       "    </tr>\n",
       "    <tr>\n",
       "      <th>2</th>\n",
       "      <td>0019_01</td>\n",
       "      <td>True</td>\n",
       "    </tr>\n",
       "    <tr>\n",
       "      <th>3</th>\n",
       "      <td>0021_01</td>\n",
       "      <td>True</td>\n",
       "    </tr>\n",
       "    <tr>\n",
       "      <th>4</th>\n",
       "      <td>0023_01</td>\n",
       "      <td>False</td>\n",
       "    </tr>\n",
       "    <tr>\n",
       "      <th>...</th>\n",
       "      <td>...</td>\n",
       "      <td>...</td>\n",
       "    </tr>\n",
       "    <tr>\n",
       "      <th>4272</th>\n",
       "      <td>9266_02</td>\n",
       "      <td>True</td>\n",
       "    </tr>\n",
       "    <tr>\n",
       "      <th>4273</th>\n",
       "      <td>9269_01</td>\n",
       "      <td>False</td>\n",
       "    </tr>\n",
       "    <tr>\n",
       "      <th>4274</th>\n",
       "      <td>9271_01</td>\n",
       "      <td>True</td>\n",
       "    </tr>\n",
       "    <tr>\n",
       "      <th>4275</th>\n",
       "      <td>9273_01</td>\n",
       "      <td>True</td>\n",
       "    </tr>\n",
       "    <tr>\n",
       "      <th>4276</th>\n",
       "      <td>9277_01</td>\n",
       "      <td>True</td>\n",
       "    </tr>\n",
       "  </tbody>\n",
       "</table>\n",
       "<p>4277 rows × 2 columns</p>\n",
       "</div>"
      ],
      "text/plain": [
       "     PassengerId  Transported\n",
       "0        0013_01         True\n",
       "1        0018_01        False\n",
       "2        0019_01         True\n",
       "3        0021_01         True\n",
       "4        0023_01        False\n",
       "...          ...          ...\n",
       "4272     9266_02         True\n",
       "4273     9269_01        False\n",
       "4274     9271_01         True\n",
       "4275     9273_01         True\n",
       "4276     9277_01         True\n",
       "\n",
       "[4277 rows x 2 columns]"
      ]
     },
     "execution_count": 35,
     "metadata": {},
     "output_type": "execute_result"
    }
   ],
   "source": [
    "output = final()\n",
    "\n",
    "output"
   ]
  },
  {
   "cell_type": "code",
   "execution_count": 36,
   "id": "882e21e8",
   "metadata": {
    "execution": {
     "iopub.execute_input": "2023-01-09T16:18:02.685968Z",
     "iopub.status.busy": "2023-01-09T16:18:02.685529Z",
     "iopub.status.idle": "2023-01-09T16:18:02.698698Z",
     "shell.execute_reply": "2023-01-09T16:18:02.697692Z"
    },
    "papermill": {
     "duration": 0.033947,
     "end_time": "2023-01-09T16:18:02.701294",
     "exception": false,
     "start_time": "2023-01-09T16:18:02.667347",
     "status": "completed"
    },
    "tags": []
   },
   "outputs": [],
   "source": [
    "output.to_csv('submission.csv', index=False)"
   ]
  }
 ],
 "metadata": {
  "kernelspec": {
   "display_name": "Python 3",
   "language": "python",
   "name": "python3"
  },
  "language_info": {
   "codemirror_mode": {
    "name": "ipython",
    "version": 3
   },
   "file_extension": ".py",
   "mimetype": "text/x-python",
   "name": "python",
   "nbconvert_exporter": "python",
   "pygments_lexer": "ipython3",
   "version": "3.7.12"
  },
  "papermill": {
   "default_parameters": {},
   "duration": 51.888458,
   "end_time": "2023-01-09T16:18:03.640151",
   "environment_variables": {},
   "exception": null,
   "input_path": "__notebook__.ipynb",
   "output_path": "__notebook__.ipynb",
   "parameters": {},
   "start_time": "2023-01-09T16:17:11.751693",
   "version": "2.3.4"
  }
 },
 "nbformat": 4,
 "nbformat_minor": 5
}
